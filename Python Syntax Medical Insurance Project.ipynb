{
 "cells": [
  {
   "cell_type": "markdown",
   "id": "1adf3910-1bae-456c-a701-50c6ea6b44e7",
   "metadata": {},
   "source": [
    "# Python Syntax: Medical Insurance Project"
   ]
  },
  {
   "cell_type": "markdown",
   "id": "a40335fe-c7b6-4988-8cf1-291ee6abdea5",
   "metadata": {},
   "source": [
    "## Syntax and Variable Types:"
   ]
  },
  {
   "cell_type": "markdown",
   "id": "c75455c4-d6c3-4bf0-aa20-2309638a4076",
   "metadata": {},
   "source": [
    "Suppose you are a medical professional curious about how certain factors contribute to medical insurance costs. Using a formula that estimates a person's yearly insurance costs, you will investigate how different factors such as age, sex, BMI, etc. affect the prediction."
   ]
  },
  {
   "cell_type": "markdown",
   "id": "34334cde-ec79-4443-9e07-8d9fb5c3cfe7",
   "metadata": {},
   "source": [
    "## Setting up Factors"
   ]
  },
  {
   "cell_type": "markdown",
   "id": "d1be6323-868a-42c2-9680-bf3ab0ffac9a",
   "metadata": {},
   "source": [
    "1. Our first step is to create the variables for each factor we will consider when estimating medical insurance costs.\n",
    "\n",
    "   These are the variables we will need to create:\n",
    "   - `age`: age of the individual in years\n",
    "   - `sex`: 0 for female, 1 for male*\n",
    "   - `bmi`: individual's body mass index\n",
    "   - `num_of_children`: number of children the individual has\n",
    "   - `smoker`: 0 for a non-smoker, 1 for a smoker\n",
    "   \n",
    "   In the code block below, create the following variables for a **28**-year-old, **nonsmoking woman** who has **three children** and a **BMI** of **26.2**.\n",
    "   \n",
    "   **Note**: We are using this [medical insurance dataset](https://www.kaggle.com/mirichoi0218/insurance) as a guide, which unfortunately does not include data for non-binary individuals."
   ]
  },
  {
   "cell_type": "code",
   "execution_count": 6,
   "id": "c8d6cb8f-ad67-4fc7-b23b-56732efa10f4",
   "metadata": {},
   "outputs": [],
   "source": [
    "# initializing variables\n",
    "age=28\n",
    "sex=0\n",
    "bmi=26.2\n",
    "num_of_children=3\n",
    "smoker=0"
   ]
  },
  {
   "cell_type": "markdown",
   "id": "ac00e741-399c-475d-b219-f3a6a045bd10",
   "metadata": {},
   "source": [
    "## Working with the Formula"
   ]
  },
  {
   "cell_type": "markdown",
   "id": "15ec2ca0-26fb-4940-b3db-936744eec63f",
   "metadata": {},
   "source": [
    "2. After the declaration of the variables, create a variable called `insurance_cost` that utilizes the following formula:\n",
    "\n",
    "   $$\n",
    "   \\begin{aligned}\n",
    "   insurance\\_cost = 250*age - 128*sex \\\\\n",
    "   + 370*bmi + 425*num\\_of\\_children \\\\\n",
    "   + 24000*smoker - 12500 \\\\\n",
    "   \\end{aligned}\n",
    "   $$"
   ]
  },
  {
   "cell_type": "code",
   "execution_count": 12,
   "id": "cadb903a-822b-4a3e-a2b8-53768d0d6d42",
   "metadata": {},
   "outputs": [],
   "source": [
    "# insurance formula written out\n",
    "insurance_cost=250*age-128*sex+370*bmi+425*num_of_children+24000*smoker-12500"
   ]
  },
  {
   "cell_type": "markdown",
   "id": "e95e1f06-0ef7-4ba7-b9e4-9a33608d9e67",
   "metadata": {},
   "source": [
    "3. Let's display this value in an informative way. Print out the following string in the kernel:\n",
    "\n",
    "   ```\n",
    "   This person's insurance cost is {insurance_cost} dollars.\n",
    "   ```\n",
    "   \n",
    "   You will need to use string concatenation, including the `str()` function to print out the `insurance_cost`."
   ]
  },
  {
   "cell_type": "code",
   "execution_count": 15,
   "id": "07708984-5c6c-4d6a-8fdf-fac8fc3b54f6",
   "metadata": {},
   "outputs": [
    {
     "name": "stdout",
     "output_type": "stream",
     "text": [
      "This person's insurance cost is 5469.0dollars.\n"
     ]
    }
   ],
   "source": [
    "# print out the insurance cost\n",
    "print(\"This person's insurance cost is \" +str(insurance_cost)+ \"dollars.\")"
   ]
  },
  {
   "cell_type": "markdown",
   "id": "7b9d0290-0329-438f-96d6-900f21ca4975",
   "metadata": {},
   "source": [
    "## Looking at Age Factor"
   ]
  },
  {
   "cell_type": "markdown",
   "id": "980966d7-dd71-4890-b10c-b4fe3e965b1c",
   "metadata": {},
   "source": [
    "4. We have seen how our formula can estimate costs for one individual. Now let's play with some individual factors to see what role each one plays in our estimation!\n",
    "\n",
    "   Let's start with the `age` factor. Using a plus-equal operator, add 4 years to our `age` variable."
   ]
  },
  {
   "cell_type": "code",
   "execution_count": 19,
   "id": "8f34e353-1fd1-4c28-814a-0aae2924c582",
   "metadata": {},
   "outputs": [],
   "source": [
    "# add 4 years to age\n",
    "age +=4"
   ]
  },
  {
   "cell_type": "markdown",
   "id": "0bc4732e-2765-4434-b564-b8b626bc9b4f",
   "metadata": {},
   "source": [
    "5. Now that we have changed our `age` value, we want to recalculate our insurance cost. Declare a new variable called `new_insurance_cost` in the code block below.\n",
    "\n",
    "   Make sure you leave the `insurance_cost` variable the same as in Task 2. We will use it later in our program!"
   ]
  },
  {
   "cell_type": "code",
   "execution_count": 22,
   "id": "f2364cf3-fb6b-48c9-8dc6-65868bef7808",
   "metadata": {},
   "outputs": [
    {
     "name": "stdout",
     "output_type": "stream",
     "text": [
      "This person's new insurance cost is 6469.0dollars.\n"
     ]
    }
   ],
   "source": [
    "# calculate the new insurance cost\n",
    "new_insurance_cost=250*age-128*sex+370*bmi+425*num_of_children+24000*smoker-12500\n",
    "print(\"This person's new insurance cost is \" +str(new_insurance_cost)+ \"dollars.\")"
   ]
  },
  {
   "cell_type": "markdown",
   "id": "5fea71f3-56b3-4dbe-96b7-d982ca66d8f6",
   "metadata": {},
   "source": [
    "6. Next, we want to find the difference between our `new_insurance_cost` and `insurance_cost`. To do this, let's create a new variable called `change_in_insurance_cost` and set it equal to the difference between `new_insurance_cost` and `insurance_cost`.\n",
    "\n",
    "   Note: depending on the order that we subtract (eg., `new_insurance_cost - insurance_cost` vs. `insurance_cost - new_insurance_cost`), we'll get a positive or negative version of the same number. To make this difference interpretable, let's calculate `new_insurance cost - insurance_cost`. Then we can say, \"people who are four years older have estimated insurance costs that are `change_in_insurance_cost` dollars different, where the sign of `change_in_insurance_cost` tells us whether the cost is higher or lower\"."
   ]
  },
  {
   "cell_type": "markdown",
   "id": "336931ea-ce9c-44c5-8792-682a012442b2",
   "metadata": {},
   "source": [
    "7. We want to display this information in an informative way similar to the output from instruction 3. In the code block below, print the following string, where `XXX` is replaced by the value of `change_in_insurance_cost`:\n",
    "\n",
    "   ```\n",
    "   The change in cost of insurance after increasing the age by 4 years is XXX dollars.\n",
    "   ```\n",
    "   \n",
    "   Doing this will tell us how 4 years in age affects medical insurance cost estimates assuming that all other variables remain the same.\n",
    "   \n",
    "   You will need to concatenate strings and use the `str()` method."
   ]
  },
  {
   "cell_type": "code",
   "execution_count": 30,
   "id": "62d90aa3-6820-4bbd-a1da-e0a63edd72fc",
   "metadata": {},
   "outputs": [
    {
     "name": "stdout",
     "output_type": "stream",
     "text": [
      "The change in cost of insurance after increasing the age by 4 years is 1000.0dollars.\n"
     ]
    }
   ],
   "source": [
    "change_in_insurance_cost=new_insurance_cost-insurance_cost\n",
    "print(\"The change in cost of insurance after increasing the age by 4 years is \" +str(change_in_insurance_cost)+ \"dollars.\")"
   ]
  },
  {
   "cell_type": "markdown",
   "id": "65e7c6be-07c3-4d83-91ac-7f6291946134",
   "metadata": {},
   "source": [
    "## Looking at BMI Factor"
   ]
  },
  {
   "cell_type": "markdown",
   "id": "11be2acb-77ab-453f-bd10-73ea2db1e41a",
   "metadata": {},
   "source": [
    "8. Now that you have looked at the age factor, let's move onto another one: BMI. First, we have to redefine our `age` variable to be its original value.\n",
    "\n",
    "   Set `age` to `28`. This will reset its value and allow us to focus on just the change in the BMI factor moving forward.\n",
    "   \n",
    "   On the next line, using the plus-equal operator, add `3.1` to our `bmi` variable."
   ]
  },
  {
   "cell_type": "code",
   "execution_count": 34,
   "id": "ab81755b-8cfe-41fc-9120-4c8d5fb83814",
   "metadata": {},
   "outputs": [],
   "source": [
    "age=28\n",
    "# add 3.1 to bmi\n",
    "bmi+=3.1"
   ]
  },
  {
   "cell_type": "markdown",
   "id": "48898a6d-4607-479b-be1c-fdefd3d0fd38",
   "metadata": {},
   "source": [
    "9. Now let's find out how a change in BMI affects insurance costs. Our next steps are pretty much the same as we have done before when looking at `age`.\n",
    "   1. Below the line where `bmi` was increased by `3.1`, rewrite the insurance cost formula and assign it to the variable name `new_insurance_cost`.\n",
    "   2. Save the difference between `new_insurance_cost` and `insurance_cost` in a variable called `change_in_insurance_cost`.\n",
    "   3. Display the following string in the output terminal, where `XXX` is replaced by the value of `change_in_insurance_cost`:\n",
    "   \n",
    "   ```py\n",
    "   The change in estimated insurance cost after increasing BMI by 3.1 is XXX dollars.\n",
    "   ```"
   ]
  },
  {
   "cell_type": "code",
   "execution_count": 37,
   "id": "1ed05182-ed2d-4681-a5f7-d8c86b4893bf",
   "metadata": {},
   "outputs": [
    {
     "name": "stdout",
     "output_type": "stream",
     "text": [
      "The change in estimated insurance cost after increasing BMI by 3.1 is 1147.0dollars.\n"
     ]
    }
   ],
   "source": [
    "new_insurance_cost=250*age-128*sex+370*bmi+425*num_of_children+24000*smoker-12500\n",
    "change_in_insurance_cost=new_insurance_cost-insurance_cost\n",
    "print(\"The change in estimated insurance cost after increasing BMI by 3.1 is \"+str(change_in_insurance_cost)+ \"dollars.\")"
   ]
  },
  {
   "cell_type": "markdown",
   "id": "0dc9919e-300b-43f9-a11c-34f8825f3584",
   "metadata": {},
   "source": [
    "## Looking at Male vs. Female Factor"
   ]
  },
  {
   "cell_type": "markdown",
   "id": "32782f99-0d55-43fe-888d-b8f86358def9",
   "metadata": {},
   "source": [
    "10. Let's look at the effect sex has on medical insurance costs. Before we make any additional changes, first reassign your `bmi` variable back to its original value of `26.2`.\n",
    "\n",
    "    On a new line of code in the code block below, reassign the value of `sex` to `1`. A reminder that `1` identifies male individuals and `0` identifies female individuals."
   ]
  },
  {
   "cell_type": "code",
   "execution_count": 41,
   "id": "cd068ac0-b0fa-4951-8883-d6f9defe4424",
   "metadata": {},
   "outputs": [],
   "source": [
    "bmi=26.2\n",
    "# male vs. female factor\n",
    "# change value of sex to 1\n",
    "sex=1"
   ]
  },
  {
   "cell_type": "markdown",
   "id": "b8b0edea-3fd4-44b1-9e4f-7806392fa202",
   "metadata": {},
   "source": [
    "11. Perform the steps below!\n",
    "    1. Rewrite the insurance cost formula and assign it to the variable name `new_insurance_cost`.\n",
    "    2. Save the difference between `new_insurance_cost` and `insurance_cost` in a variable called `change_in_insurance_cost`.\n",
    "    3. Display the following string, where `XXX` is replaced by the value of `change_in_insurance_cost`:\n",
    "    ```\n",
    "    The change in estimated cost for being male instead of female is XXX dollars.\n",
    "    ```"
   ]
  },
  {
   "cell_type": "code",
   "execution_count": 44,
   "id": "c4a2dd94-f2ef-43ad-b876-55acefe019d0",
   "metadata": {},
   "outputs": [
    {
     "name": "stdout",
     "output_type": "stream",
     "text": [
      "The change in estimated cost for being male instead of female is -128.0dollars.\n"
     ]
    }
   ],
   "source": [
    "new_insurance_cost=250*age-128*sex+370*bmi+425*num_of_children+24000*smoker-12500\n",
    "change_in_insurance_cost=new_insurance_cost-insurance_cost\n",
    "print(\"The change in estimated cost for being male instead of female is \"+str(change_in_insurance_cost)+ \"dollars.\")"
   ]
  },
  {
   "cell_type": "markdown",
   "id": "2cc4bf81-b135-4c61-86d5-1e74a8f93a99",
   "metadata": {},
   "source": [
    "12. Notice that this time you got a negative value for `change_in_insurance_cost`. Let's think about what that means. We changed the sex variable from `0` (female) to `1` (male) and it decreased the estimated insurance costs.\n",
    "\n",
    "    This means that men tend to have lower medical costs on average than women. Reflect on the other findings you have dug up from this investigation so far."
   ]
  },
  {
   "cell_type": "markdown",
   "id": "d5971647-b9d8-4a13-ac61-e22d8daa4a1e",
   "metadata": {},
   "source": [
    "## Looking at Smoking Factor"
   ]
  },
  {
   "cell_type": "markdown",
   "id": "0c0b1d84-a417-435a-930e-154e7d1c2ebd",
   "metadata": {},
   "source": [
    "So far we have looked at 3 of the 5 factors in the insurance costs formula. Now we see the `smoker`.\n",
    "1. Rewrite the insurance cost formula and assign it to the variable name `new_insurance_cost`.\n",
    "2. Save the difference between `new_insurance_cost` in a variable called `change_in_insurance_cost`.\n",
    "3. Display the information below!"
   ]
  },
  {
   "cell_type": "code",
   "execution_count": 51,
   "id": "dc162611-8b4d-424d-9fe7-2d299f3f0491",
   "metadata": {},
   "outputs": [],
   "source": [
    "sex=0\n",
    "smoker=1"
   ]
  },
  {
   "cell_type": "code",
   "execution_count": 53,
   "id": "73a4c4c8-2132-4f71-a6a8-94fa529d5bda",
   "metadata": {},
   "outputs": [
    {
     "name": "stdout",
     "output_type": "stream",
     "text": [
      "The change in estimated cost for being smoker instead of non smoker is 24000.0dollars.\n"
     ]
    }
   ],
   "source": [
    "new_insurance_cost=250*age-128*sex+370*bmi+425*num_of_children+24000*smoker-12500\n",
    "change_in_insurance_cost=new_insurance_cost-insurance_cost\n",
    "print(\"The change in estimated cost for being smoker instead of non smoker is \"+str(change_in_insurance_cost)+ \"dollars.\")"
   ]
  },
  {
   "cell_type": "code",
   "execution_count": null,
   "id": "8ad4a327-ed30-4d34-96a1-7ed2b16183db",
   "metadata": {},
   "outputs": [],
   "source": []
  },
  {
   "cell_type": "code",
   "execution_count": null,
   "id": "a1b6484d-0efb-455b-a2aa-77d6b11da39a",
   "metadata": {},
   "outputs": [],
   "source": []
  },
  {
   "cell_type": "code",
   "execution_count": null,
   "id": "618a218e-d4a1-4581-b9af-e3a666ea8cf7",
   "metadata": {},
   "outputs": [],
   "source": []
  },
  {
   "cell_type": "markdown",
   "id": "c9124575-e7cd-4ed0-8f13-cb5283d9a5f9",
   "metadata": {},
   "source": [
    "## Functions:"
   ]
  },
  {
   "cell_type": "markdown",
   "id": "bffb8a47-1b1c-4bed-98b4-cd2bfb27ec98",
   "metadata": {},
   "source": [
    "In this code, we estimate the medical insurance costs for two individuals, Maria and Omar, based on five variables:\n",
    "These variables are used in the following formula to estimate an individual’s insurance cost (in USD):\n",
    "   - `age`: age of the individual in years\n",
    "   - `sex`: 0 for female, 1 for male*\n",
    "   - `bmi`: individual's body mass index\n",
    "   - `num_of_children`: number of children the individual has\n",
    "   - `smoker`: 0 for a non-smoker, 1 for a smoker\n",
    "\n",
    " $$\n",
    "   \\begin{aligned}\n",
    "   insurance\\_cost = 250*age - 128*sex \\\\\n",
    "   + 370*bmi + 425*num\\_of\\_children \\\\\n",
    "   + 24000*smoker - 12500 \\\\\n",
    "   \\end{aligned}\n",
    "   $$"
   ]
  },
  {
   "cell_type": "code",
   "execution_count": 60,
   "id": "52908fd7-c558-408e-a161-0ad417517453",
   "metadata": {},
   "outputs": [
    {
     "name": "stdout",
     "output_type": "stream",
     "text": [
      "The estimated insurance cost for maria is 5469.0 dollars.\n",
      "The estimated insurance cost for Omar is 28336.0 dollars.\n",
      "The difference in insurance cost is -22867.0 dollars.\n"
     ]
    }
   ],
   "source": [
    "# defining a function called calculate_insurance_cost()\n",
    "def calculate_insurance_cost(name,age,sex,bmi,num_of_children,smoker):\n",
    "  estimated_cost=250*age - 128*sex + 370*bmi + 425*num_of_children + 24000*smoker - 12500\n",
    "  print(\"The estimated insurance cost for \" +name+\" is \" +str(estimated_cost)+ \" dollars.\")\n",
    "  return estimated_cost  #Return estimated_cost\n",
    "\n",
    "\n",
    "\n",
    "# Estimate Maria's insurance cost\n",
    "maria_insurance_cost = calculate_insurance_cost(\"maria\",28,0,26.2,3,0) #Calling a function\n",
    "\n",
    "# Estimate Omar's insurance cost \n",
    "omar_insurance_cost = calculate_insurance_cost(\"Omar\",35,1,22.2,0,1) #Calling a function\n",
    "\n",
    "#function to calculate the difference between the insurance costs\n",
    "def diff_insurance_cost(maria_insurance_cost,omar_insurance_cost):\n",
    "  difference=maria_insurance_cost-omar_insurance_cost\n",
    "  print(\"The difference in insurance cost is \" +str(difference)+ \" dollars.\")\n",
    "diff_insurance_cost(maria_insurance_cost,omar_insurance_cost)"
   ]
  },
  {
   "cell_type": "code",
   "execution_count": null,
   "id": "f36ff1fa-c3cf-4431-b6ff-b84315e75346",
   "metadata": {},
   "outputs": [],
   "source": []
  },
  {
   "cell_type": "code",
   "execution_count": null,
   "id": "946cd1c8-f1d2-4b67-9263-a987fd7a98de",
   "metadata": {},
   "outputs": [],
   "source": []
  },
  {
   "cell_type": "code",
   "execution_count": null,
   "id": "03552ce8-ba3d-4bfc-ad6b-48105c5885e6",
   "metadata": {},
   "outputs": [],
   "source": []
  },
  {
   "cell_type": "markdown",
   "id": "c4eb6e46-06aa-40ac-953b-e5c20bc4106c",
   "metadata": {},
   "source": [
    "## Control Flow:"
   ]
  },
  {
   "cell_type": "markdown",
   "id": "9e9af013-ff61-4a1a-abca-1e03436992a3",
   "metadata": {},
   "source": [
    "The function estimate_insurance_cost() estimates the medical insurance cost for an individual, based on four variables:\n",
    "\n",
    "   - `age`: age of the individual in years\n",
    "   - `sex`: 0 for female, 1 for male*\n",
    "   - `num_of_children`: number of children the individual has\n",
    "   - `smoker`: 0 for a non-smoker, 1 for a smoker\n",
    "\n",
    "\n",
    "insurance_cost=400∗age−128∗sex+425∗num_of_children+1000∗smoker-2500"
   ]
  },
  {
   "cell_type": "markdown",
   "id": "b8a7f3c1-48c7-4a33-aa88-34a237d27375",
   "metadata": {},
   "source": [
    "In general, insurance costs are higher for smokers. We can use data from the smoker variable to provide advice on how to lower insurance costs.define a function called `analyze_smoker()` that takes an input smoker_status."
   ]
  },
  {
   "cell_type": "markdown",
   "id": "d3a1f830-6a12-48a3-9b48-dd2f1c4732d5",
   "metadata": {},
   "source": [
    "Inside of the `analyze_smoker()` function,\n",
    "If `smoker_status` is equal to 1, print` \"To lower your cost, you should consider quitting smoking.\"`\r\n",
    "Otherwise, print` \"Smoking is not an issue for you.`\""
   ]
  },
  {
   "cell_type": "code",
   "execution_count": 87,
   "id": "cb09cac4-6dd3-4276-ac33-57984c8f29ff",
   "metadata": {},
   "outputs": [],
   "source": [
    "def analyze_smoker(smoker_status):\n",
    "  if smoker_status==1:\n",
    "    print(\"To lower your cost, you should consider quitting smoking.\")\n",
    "  else:\n",
    "    print(\"Smoking is not an issue for you.\")"
   ]
  },
  {
   "cell_type": "markdown",
   "id": "749e5a59-6019-416d-9d63-822d83cc67b6",
   "metadata": {},
   "source": [
    "Now that we’ve written the analyze_smoker() function, let’s make use of it.\r\n",
    "\r\n",
    "In the `estimate_insurance_cost()` function, go to the line of code that prints the estimated insurance cost. On the next line, make a function call to `analyze_smoker()` , passing in the `smoker` variable as an argument.smokert.t."
   ]
  },
  {
   "cell_type": "code",
   "execution_count": 97,
   "id": "139de6e2-429b-4a35-baa0-20968b4a0885",
   "metadata": {},
   "outputs": [
    {
     "name": "stdout",
     "output_type": "stream",
     "text": [
      "Keanu's Estimated Insurance Cost: 20247 dollars.\n",
      "To lower your cost, you should consider quitting smoking.\n"
     ]
    }
   ],
   "source": [
    "# Function to estimate insurance cost:\n",
    "def estimate_insurance_cost(name, age, sex, num_of_children, smoker):\n",
    "  estimated_cost = 400*age - 128*sex + 425*num_of_children + 10000*smoker - 2500\n",
    "  print(name + \"'s Estimated Insurance Cost: \" + str(estimated_cost) + \" dollars.\")\n",
    "  analyze_smoker(smoker)\n",
    "  return estimated_cost\n",
    " \n",
    "# Estimate Keanu's insurance cost\n",
    "keanu_insurance_cost = estimate_insurance_cost(name = 'Keanu', age = 29, sex = 1, num_of_children = 3, smoker = 1)\n"
   ]
  },
  {
   "cell_type": "code",
   "execution_count": null,
   "id": "20c4638a-bf56-4d33-816f-58fdce76c6ae",
   "metadata": {},
   "outputs": [],
   "source": []
  },
  {
   "cell_type": "code",
   "execution_count": null,
   "id": "3c413bda-04d3-4268-9e61-16060445be22",
   "metadata": {},
   "outputs": [],
   "source": []
  },
  {
   "cell_type": "code",
   "execution_count": null,
   "id": "0b292c72-e437-493c-9e29-bf4e06f4cf2a",
   "metadata": {},
   "outputs": [],
   "source": []
  },
  {
   "cell_type": "markdown",
   "id": "b5bbc908-dd68-4c74-b5ec-620f221b7b9e",
   "metadata": {},
   "source": [
    "## Lists"
   ]
  },
  {
   "cell_type": "markdown",
   "id": "a84f9116-e417-423e-93e4-7d0ee67386c2",
   "metadata": {},
   "source": [
    "In this , you will examine how factors such as age, sex, BMI, number of children, and smoking status contribute to medical insurance costs.\n",
    "\n",
    "You will apply your new knowledge of Python Lists to store insurance cost data in a list as well as compare **estimated** insurance costs to **actual** insurance costs.\n",
    "\n",
    "Let's get started!"
   ]
  },
  {
   "cell_type": "markdown",
   "id": "73d3013b-9312-4bb1-ad9c-baa90e31729c",
   "metadata": {},
   "source": [
    "### Creating a List"
   ]
  },
  {
   "cell_type": "markdown",
   "id": "ad279f37-d40a-4240-9686-6219232f30f8",
   "metadata": {},
   "source": [
    "1. First, take a look at the code in the code block below.\n",
    "\n",
    "   The function `estimate_insurance_cost()` estimates the medical insurance cost for an individual, based on five variables:\n",
    "   - `age`: age of the individual in years\n",
    "   - `sex`: 0 for female, 1 for male\n",
    "   - `bmi`: individual's body mass index\n",
    "   - `num_of_children`: number of children the individual has\n",
    "   - `smoker`: 0 for a non-smoker, 1 for a smoker\n",
    "   \n",
    "   These variables are used in the following formula to estimate an individual's insurance cost (in USD):\n",
    "   \n",
    "   $$\n",
    "   insurance\\_cost = 250*age - 128*sex + 370*bmi + 425*num\\_of\\_children + 24000*smoker - 12500\n",
    "   $$\n",
    "   \n",
    "   Observe below the code the estimated insurance costs for three individuals - Maria, Rohan, and Valentina."
   ]
  },
  {
   "cell_type": "code",
   "execution_count": 62,
   "id": "639411d2-b8a8-4200-9bd5-7dec1ae91721",
   "metadata": {},
   "outputs": [
    {
     "name": "stdout",
     "output_type": "stream",
     "text": [
      "Maria's Estimated Insurance Cost: 4222.0 dollars.\n",
      "Rohan's Estimated Insurance Cost: 5442.0 dollars.\n",
      "Valentina's Estimated Insurance Cost: 36368.0 dollars.\n"
     ]
    }
   ],
   "source": [
    "def estimate_insurance_cost(name, age, sex, bmi, num_of_children, smoker):\n",
    "  estimated_cost = 250*age - 128*sex + 370*bmi + 425*num_of_children + 24000*smoker - 12500\n",
    "  print(name + \"'s Estimated Insurance Cost: \" + str(estimated_cost) + \" dollars.\")\n",
    "  return estimated_cost\n",
    " \n",
    "# Estimate Maria's insurance cost\n",
    "maria_insurance_cost = estimate_insurance_cost(name = \"Maria\", age = 31, sex = 0, bmi = 23.1, num_of_children = 1, smoker = 0)\n",
    "\n",
    "# Estimate Rohan's insurance cost\n",
    "rohan_insurance_cost = estimate_insurance_cost(name = \"Rohan\", age = 25, sex = 1, bmi = 28.5, num_of_children = 3, smoker = 0)\n",
    "\n",
    "# Estimate Valentina's insurance cost\n",
    "valentina_insurance_cost = estimate_insurance_cost(name = \"Valentina\", age = 53, sex = 0, bmi = 31.4, num_of_children = 0, smoker = 1)"
   ]
  },
  {
   "cell_type": "markdown",
   "id": "e68a8b50-9b33-4d50-8321-cfcdd759dea0",
   "metadata": {},
   "source": [
    "2. We want to compare the estimated insurance costs (as calculated by our function) to the actual amounts that Maria, Rohan, and Valentina paid.\n",
    "\n",
    "   Create a list called `names` and fill it with the names of individuals you are estimating insurance costs for:\n",
    "   - `\"Maria\"`\n",
    "   - `\"Rohan\"`\n",
    "   - `\"Valentina\"`"
   ]
  },
  {
   "cell_type": "code",
   "execution_count": 65,
   "id": "46815c24-802d-4d41-9d74-9a0d2bed3a51",
   "metadata": {},
   "outputs": [],
   "source": [
    "names=[\"Maria\",\"Rohan\",\"Valentina\"]"
   ]
  },
  {
   "cell_type": "markdown",
   "id": "b1f7cdac-c743-4c3f-a9ba-9190cca04f8e",
   "metadata": {},
   "source": [
    "3. Next, create a list called `insurance_costs` and fill it with the actual amounts that Maria, Rohan, and Valentina paid for insurance:\n",
    "   - `4150.0`\n",
    "   - `5320.0`\n",
    "   - `35210.0`"
   ]
  },
  {
   "cell_type": "code",
   "execution_count": 130,
   "id": "e4f392cc-001f-416a-ba1b-e47f846ba829",
   "metadata": {},
   "outputs": [],
   "source": [
    "insurance_costs=[4150.0,5320.0,35210.0]\n",
    "names.append(\"Akira\")\n",
    "insurance_costs.append(2930.0)"
   ]
  },
  {
   "cell_type": "markdown",
   "id": "109bc2b4-e8db-4849-9493-060668c6d02a",
   "metadata": {},
   "source": [
    "### Combining Lists"
   ]
  },
  {
   "cell_type": "markdown",
   "id": "88e10817-19b8-4cc1-9fc1-b2276d09b9c7",
   "metadata": {},
   "source": [
    "4. Currently the `names` and `insurance_costs` lists are separate, but we want each name to be paired with an insurance cost.\n",
    "\n",
    "   Create a new variable called `insurance_data` that combines `names` and `insurance_costs` using the `zip()` function.\n",
    "   \n",
    "   Print this new variable."
   ]
  },
  {
   "cell_type": "markdown",
   "id": "fe577dba-8aa0-42d5-857f-40328d46f9a3",
   "metadata": {},
   "source": [
    "5. The output should look something like:\n",
    "\n",
    "   ```\n",
    "   <zip object at 0x7f1631e86b48>\n",
    "   ```\n",
    "   \n",
    "   This output does not mean much to us. To change it to a format we can actually understand, we must convert the `zip` object to a list by doing the following:\n",
    "   \n",
    "   ```\n",
    "   list(zip(____, ____))\n",
    "   ```\n",
    "   \n",
    "   Convert the `insurance_data` object to a list using this method. Run the code to see the result - you should now see a list of names and insurance costs."
   ]
  },
  {
   "cell_type": "code",
   "execution_count": 135,
   "id": "b3da09ca-75dd-4ea2-9663-9dd2f8985aae",
   "metadata": {},
   "outputs": [
    {
     "name": "stdout",
     "output_type": "stream",
     "text": [
      "[('Maria', 4150.0), ('Rohan', 5320.0), ('Valentina', 35210.0), ('Akira', 2930.0)]\n"
     ]
    }
   ],
   "source": [
    "insurance_data=list(zip(names,insurance_costs))\n",
    "print(insurance_data)"
   ]
  },
  {
   "cell_type": "markdown",
   "id": "98e1b114-e71a-4725-9e95-aa911d7e22d8",
   "metadata": {},
   "source": [
    "### Appending to a List"
   ]
  },
  {
   "cell_type": "markdown",
   "id": "4fda55e5-2cec-4e87-a173-b4c600a80ea4",
   "metadata": {},
   "source": [
    "6. Next, create an empty list called `estimated_insurance_data`.\n",
    "\n",
    "   This is the list we'll use to store the estimated insurance costs for our three individuals."
   ]
  },
  {
   "cell_type": "code",
   "execution_count": 139,
   "id": "adcb3709-0953-4b1f-8a96-fc93759c8dda",
   "metadata": {},
   "outputs": [],
   "source": [
    "estimated_insurance_data = []"
   ]
  },
  {
   "cell_type": "markdown",
   "id": "3f38cf37-6403-470a-b81c-1851bf8508dc",
   "metadata": {},
   "source": [
    "7. We want to add our estimated insurance data for Maria, Rohan, and Valentina to the `estimated_insurance_data` list.\n",
    "\n",
    "   Use `.append()` to add `(\"Maria\", maria_insurance_cost)` to `estimated_insurance_data`. Do the same for Rohan and Valentina."
   ]
  },
  {
   "cell_type": "code",
   "execution_count": 142,
   "id": "1100adb0-e506-46d1-bb20-7a4fa0b87721",
   "metadata": {},
   "outputs": [],
   "source": [
    "estimated_insurance_data.append((\"Maria\", maria_insurance_cost))\n",
    "estimated_insurance_data.append((\"Rohan\", rohan_insurance_cost))\n",
    "estimated_insurance_data.append((\"Valentina\", valentina_insurance_cost))"
   ]
  },
  {
   "cell_type": "markdown",
   "id": "9f27e2b5-8044-4a29-9e1a-dc16e843d159",
   "metadata": {},
   "source": [
    "8. Print `estimated_insurance_data`.\n",
    "\n",
    "   Make sure the output is what you expected."
   ]
  },
  {
   "cell_type": "code",
   "execution_count": 145,
   "id": "99024a5e-02d8-4195-b168-5c4762278f14",
   "metadata": {},
   "outputs": [
    {
     "name": "stdout",
     "output_type": "stream",
     "text": [
      "[('Maria', 4222.0), ('Rohan', 5442.0), ('Valentina', 36368.0)]\n"
     ]
    }
   ],
   "source": [
    "print(estimated_insurance_data)"
   ]
  },
  {
   "cell_type": "markdown",
   "id": "07481d7c-677c-4a87-8aab-8ea1ade32146",
   "metadata": {},
   "source": [
    "### Inspecting the data"
   ]
  },
  {
   "cell_type": "markdown",
   "id": "d322427a-5009-4aab-9f3a-9e7eb0de3141",
   "metadata": {},
   "source": [
    "9. In the output, you should see two lists. The first one represents the **actual** insurance cost data and the second one represents the **estimated** insurance cost data.\n",
    "\n",
    "   However, it's difficult to know this just by looking at the output. As a data scientist, you want to make sure that your data is clean and easy to understand.\n",
    "   \n",
    "   Add to the print statement for `insurance_data` so that it's clear what the list contains. The output of the print statement should look like:\n",
    "   \n",
    "   ```\n",
    "   Here is the actual insurance cost data: [...list output...]\n",
    "   ```"
   ]
  },
  {
   "cell_type": "code",
   "execution_count": 155,
   "id": "d11179c3-0e79-4247-806b-e7c8d9ffc538",
   "metadata": {},
   "outputs": [
    {
     "name": "stdout",
     "output_type": "stream",
     "text": [
      "Here is the actual insurance cost data: [('Maria', 4150.0), ('Rohan', 5320.0), ('Valentina', 35210.0), ('Akira', 2930.0)]\n"
     ]
    }
   ],
   "source": [
    "print(\"Here is the actual insurance cost data: \" + str(insurance_data))"
   ]
  },
  {
   "cell_type": "markdown",
   "id": "9257ca02-8995-4689-a270-dd8e326d51c0",
   "metadata": {},
   "source": [
    "10. Do the same for the print statement that prints `estimated_insurance_data`. The output should look like:\n",
    "\n",
    "   ```\n",
    "   Here is the estimated insurance cost data: [...list output...]\n",
    "   ```"
   ]
  },
  {
   "cell_type": "code",
   "execution_count": 152,
   "id": "7a4bc217-e367-40ba-8b17-fb1164e400c1",
   "metadata": {},
   "outputs": [
    {
     "name": "stdout",
     "output_type": "stream",
     "text": [
      "Here is the estimated insurance cost data: [('Maria', 4222.0), ('Rohan', 5442.0), ('Valentina', 36368.0)]\n"
     ]
    }
   ],
   "source": [
    "print(\"Here is the estimated insurance cost data: \" + str(estimated_insurance_data))"
   ]
  },
  {
   "cell_type": "markdown",
   "id": "f9697617-94a9-4b8e-9e68-a7e2fc2b4cfc",
   "metadata": {},
   "source": [
    "11. See the results from both tasks above.\n",
    "\n",
    "    It should be much more clear from the output what each of the two lists represents, helping you better understand the data you're working with.\n",
    "    \n",
    "    You may notice that there are differences between the actual insurance costs and estimated insurance costs. This means that our `estimate_insurance_cost()` function does not calculate insurance costs with 100% accuracy.\n",
    "    \n",
    "    Compare the estimated insurance data to the actual insurance data. Do the estimated insurance costs seem to be overestimated or underestimated?"
   ]
  },
  {
   "cell_type": "markdown",
   "id": "3abb7020-2281-4ae0-b9b3-43db35ac46e5",
   "metadata": {},
   "source": [
    "12. Congratulations! In this project, you used Python lists to store **estimated** insurance cost data and then compare that data to **actual** insurance cost data.\n",
    "\n",
    "    As you've seen, lists are data structures in Python that can contain multiple pieces of data in a single object. As a data scientist, you'll find yourself working with this data structure quite often. You now have a solid foundation to move forward in your data science journey!\n",
    "    \n",
    "    If you'd like additional practice on lists, here are some ways you might extend this project:\n",
    "    - Estimate the insurance cost for a new individual, Akira, who is a 19-year-old male non-smoker with no children and a BMI of 27.1. Make sure to append his name to `names` and his actual insurance cost, `2930.0`, to `insurance_costs`.\n",
    "    "
   ]
  },
  {
   "cell_type": "code",
   "execution_count": 158,
   "id": "e945b511-a8e8-49ee-9016-cbe73b183409",
   "metadata": {},
   "outputs": [
    {
     "name": "stdout",
     "output_type": "stream",
     "text": [
      "Akira's Estimated Insurance Cost: 2149.0 dollars.\n",
      "Here is the actual insurance cost data: [('Maria', 4150.0), ('Rohan', 5320.0), ('Valentina', 35210.0), ('Akira', 2930.0)]\n",
      "Here is the estimated insurance cost data: [('Maria', 4222.0), ('Rohan', 5442.0), ('Valentina', 36368.0), ('Akira', 2149.0)]\n"
     ]
    }
   ],
   "source": [
    "akira_insurance_cost=estimate_insurance_cost(name=\"Akira\", age=19, sex=1, bmi=27.1, num_of_children=0, smoker=0)\n",
    "estimated_insurance_data.append((\"Akira\", akira_insurance_cost))\n",
    "print(\"Here is the actual insurance cost data: \" + str(insurance_data))\n",
    "print(\"Here is the estimated insurance cost data: \" + str(estimated_insurance_data))"
   ]
  },
  {
   "cell_type": "code",
   "execution_count": null,
   "id": "241de7a5-52ad-45d7-b24b-075757366477",
   "metadata": {},
   "outputs": [],
   "source": []
  },
  {
   "cell_type": "markdown",
   "id": "8559b007-5286-4e32-8c44-141a3bc683e7",
   "metadata": {},
   "source": [
    "Working with Python Lists"
   ]
  },
  {
   "cell_type": "markdown",
   "id": "ff37ae99-a919-4d17-9eed-f483a6980f6f",
   "metadata": {},
   "source": [
    "## Exploring List Data"
   ]
  },
  {
   "cell_type": "markdown",
   "id": "93bd51c3-305b-47cd-9c4c-018e13d069e5",
   "metadata": {},
   "source": [
    "1. First, take a look at the two lists in the code block below.\n",
    "\n",
    "   The list `names` stores the names of ten individuals, and `insurance_costs` stores their medical insurance costs.\n",
    "   \n",
    "   Let's add additional data to these lists:\n",
    "   - Append a new individual, `\"Priscilla\"`, to `names`.\n",
    "   - Append her insurance cost, `8320.0` to `insurance_costs`."
   ]
  },
  {
   "cell_type": "code",
   "execution_count": 163,
   "id": "b215f12e-46a8-499d-a09c-bb2a1c5bc78d",
   "metadata": {},
   "outputs": [],
   "source": [
    "names = [\"Mohamed\", \"Sara\", \"Xia\", \"Paul\", \"Valentina\", \"Jide\", \"Aaron\", \"Emily\", \"Nikita\", \"Paul\"]\n",
    "insurance_costs = [13262.0, 4816.0, 6839.0, 5054.0, 14724.0, 5360.0, 7640.0, 6072.0, 2750.0, 12064.0]"
   ]
  },
  {
   "cell_type": "code",
   "execution_count": 165,
   "id": "66628708-a2ae-43af-8551-5699049bf0ca",
   "metadata": {},
   "outputs": [],
   "source": [
    "names.append(\"Prisilla\")\n",
    "insurance_costs.append(8320.0)"
   ]
  },
  {
   "cell_type": "markdown",
   "id": "f431d141-767f-4865-aa69-bf95e294a6ad",
   "metadata": {},
   "source": [
    "2. Currently, the `names` and `insurance_costs` lists are separate, but we want each insurance cost to be paired with a name.\n",
    "\n",
    "   Create a new variable called `medical_records` that combines `insurance_costs` and `names` into a list using the `zip()` function.\n",
    "   \n",
    "   The list should have the following structure:\n",
    "   \n",
    "   ```py\n",
    "   [(cost_0, name_0), (cost_1, name_1), (cost_2, name_2), ...]\n",
    "   ```\n",
    "\n",
    "3. Print out `medical_records` below, and make sure the output is what you expected."
   ]
  },
  {
   "cell_type": "code",
   "execution_count": 170,
   "id": "4bfe122b-4976-4a86-99ed-aed1258649ef",
   "metadata": {},
   "outputs": [
    {
     "name": "stdout",
     "output_type": "stream",
     "text": [
      "[(13262.0, 'Mohamed'), (4816.0, 'Sara'), (6839.0, 'Xia'), (5054.0, 'Paul'), (14724.0, 'Valentina'), (5360.0, 'Jide'), (7640.0, 'Aaron'), (6072.0, 'Emily'), (2750.0, 'Nikita'), (12064.0, 'Paul'), (8320.0, 'Prisilla')]\n"
     ]
    }
   ],
   "source": [
    "medical_records=list(zip(insurance_costs, names))\n",
    "print(medical_records)"
   ]
  },
  {
   "cell_type": "markdown",
   "id": "1e6a2036-bbc1-44a3-a707-8ba0dc9864f6",
   "metadata": {},
   "source": [
    "4. Let's explore our medical data.\n",
    "\n",
    "   We want to see how many medical records we are dealing with. Create a variable called `num_medical_records` that stores the length of `medical_records`.\n",
    "\n",
    "5. Print `num_medical_records` with the following message:\n",
    "\n",
    "   ```\n",
    "   There are {number of medical records} medical records.\n",
    "   ```"
   ]
  },
  {
   "cell_type": "code",
   "execution_count": 174,
   "id": "bb96d22a-46dc-4f5b-9a92-2a2a6f649ba4",
   "metadata": {},
   "outputs": [
    {
     "name": "stdout",
     "output_type": "stream",
     "text": [
      "There are 11 medical records.\n"
     ]
    }
   ],
   "source": [
    "num_medical_records=len(medical_records)\n",
    "print(\"There are \"+str(num_medical_records)+ \" medical records.\" )"
   ]
  },
  {
   "cell_type": "markdown",
   "id": "ac6e4bf6-1726-4c7d-84b8-0646cf321831",
   "metadata": {},
   "source": [
    "### Selecting List Elements"
   ]
  },
  {
   "cell_type": "markdown",
   "id": "dc7f02da-b777-4692-9184-b0608df40a2c",
   "metadata": {},
   "source": [
    "6. Select the first medical record in `medical_records`, and save it to a variable called `first_medical_record`.\n",
    "\n",
    "7. Print `first_medical_record` with the following message:\n",
    "\n",
    "   ```\n",
    "   Here is the first medical record: {first medical record}\n",
    "   ```    "
   ]
  },
  {
   "cell_type": "code",
   "execution_count": 180,
   "id": "04b5c4fb-9930-4344-ba53-b747a078588f",
   "metadata": {},
   "outputs": [
    {
     "name": "stdout",
     "output_type": "stream",
     "text": [
      "(13262.0, 'Mohamed')\n"
     ]
    }
   ],
   "source": [
    "first_medical_record=medical_records[0]\n",
    "print(first_medical_record)"
   ]
  },
  {
   "cell_type": "markdown",
   "id": "1c9a910d-60be-496f-9e53-1cda2ad71f34",
   "metadata": {},
   "source": [
    "### Sorting Lists"
   ]
  },
  {
   "cell_type": "markdown",
   "id": "c26819a4-dcbc-4987-be53-fecde00670d7",
   "metadata": {},
   "source": [
    "8. Sort `medical_records` so that the individuals with the lowest insurance costs appear at the start of the list.\n",
    "\n",
    "   Print the sorted `medical_records` with the following message:\n",
    "   \n",
    "   ```\n",
    "   Here are the medical records sorted by insurance cost: {sorted list}\n",
    "   ```"
   ]
  },
  {
   "cell_type": "code",
   "execution_count": 185,
   "id": "4c5134e7-8d51-4b66-83f8-c668d89ee00a",
   "metadata": {},
   "outputs": [
    {
     "name": "stdout",
     "output_type": "stream",
     "text": [
      "Here are the medical records sorted by insurance cost: [(2750.0, 'Nikita'), (4816.0, 'Sara'), (5054.0, 'Paul'), (5360.0, 'Jide'), (6072.0, 'Emily'), (6839.0, 'Xia'), (7640.0, 'Aaron'), (8320.0, 'Prisilla'), (12064.0, 'Paul'), (13262.0, 'Mohamed'), (14724.0, 'Valentina')]\n"
     ]
    }
   ],
   "source": [
    "medical_records.sort()\n",
    "print(\"Here are the medical records sorted by insurance cost: \" +str(medical_records))"
   ]
  },
  {
   "cell_type": "markdown",
   "id": "47881133-f5ff-4815-b2cc-0d4867b02027",
   "metadata": {},
   "source": [
    "### Slicing Lists"
   ]
  },
  {
   "cell_type": "markdown",
   "id": "a5aa046f-069c-49af-ac5e-f741ce5e3175",
   "metadata": {},
   "source": [
    "9. Let's look at the three cheapest insurance costs in our medical records.\n",
    "\n",
    "   Slice the `medical_records` list, and store the three cheapest insurance costs in a list called `cheapest_three`.\n",
    "\n",
    "\n",
    "10. Print `cheapest_three` with the following message:\n",
    "\n",
    "    ```py\n",
    "    Here are the three cheapest insurance costs in our medical records: {cheapest three}\n",
    "    ```"
   ]
  },
  {
   "cell_type": "code",
   "execution_count": 191,
   "id": "c607c6eb-45ec-4e1b-b455-24bd1aa1950c",
   "metadata": {},
   "outputs": [
    {
     "name": "stdout",
     "output_type": "stream",
     "text": [
      "Here are the three cheapest insurance costs in our medical records [(2750.0, 'Nikita'), (4816.0, 'Sara'), (5054.0, 'Paul')]\n"
     ]
    }
   ],
   "source": [
    "cheapest_three=medical_records[:3]\n",
    "print(\"Here are the three cheapest insurance costs in our medical records \" + str(cheapest_three))"
   ]
  },
  {
   "cell_type": "markdown",
   "id": "297af491-b298-4b82-b39e-a5b5b423cf59",
   "metadata": {},
   "source": [
    "11. Let's look at the three most expensive insurance costs in our medical records.\n",
    "\n",
    "    Slice the `medical_records` list, and store the three most expensive insurance costs in a list called `priciest_three`.\n",
    "\n",
    "\n",
    "12. Print `priciest_three` with the following message:\n",
    "\n",
    "    ```\n",
    "    Here are the three most expensive insurance costs in our medical records: {priciest three}\n",
    "    ```"
   ]
  },
  {
   "cell_type": "code",
   "execution_count": 194,
   "id": "f1fe95a2-d7e3-41cc-96ba-f416f2035908",
   "metadata": {},
   "outputs": [
    {
     "name": "stdout",
     "output_type": "stream",
     "text": [
      "Here are the three most expensive insurance costs in our medical records: [(12064.0, 'Paul'), (13262.0, 'Mohamed'), (14724.0, 'Valentina')]\n"
     ]
    }
   ],
   "source": [
    "priciest_three=medical_records[-3:]\n",
    "print(\"Here are the three most expensive insurance costs in our medical records: \" + str(priciest_three))"
   ]
  },
  {
   "cell_type": "markdown",
   "id": "5d036ba9-7939-41eb-a199-b32c68654644",
   "metadata": {},
   "source": [
    "### Counting Elements in a List"
   ]
  },
  {
   "cell_type": "markdown",
   "id": "392b61b8-616f-4b96-99d6-6c0279e2a81e",
   "metadata": {},
   "source": [
    "13. Some individuals in our medical records have the same name. For example, the name \"Paul\" shows up twice.\n",
    "\n",
    "    Count the number of occurrences of \"Paul\" in the `names` list, and store the result in a variable called `occurrences_paul`.\n",
    "    \n",
    "    Print `occurrences_paul` with the following message:\n",
    "    \n",
    "    ```\n",
    "    There are {occurrences Paul} individuals with the name Paul in our medical records.\n",
    "    ```"
   ]
  },
  {
   "cell_type": "code",
   "execution_count": 198,
   "id": "220ddc32-b9b7-43e1-b017-99d5bfd38544",
   "metadata": {},
   "outputs": [
    {
     "name": "stdout",
     "output_type": "stream",
     "text": [
      "There are 2 individuals with the name Paul in our medical records. \n"
     ]
    }
   ],
   "source": [
    "occurrences_paul=names.count(\"Paul\")\n",
    "print(\"There are \" +str(occurrences_paul)+\" individuals with the name Paul in our medical records. \")"
   ]
  },
  {
   "cell_type": "markdown",
   "id": "17edcdbb-fd7c-49f4-9ec8-24fdeb6e9f9b",
   "metadata": {},
   "source": [
    "14. If you'd like additional practice on lists, here are some ways you might extend this project:\n",
    "    - Sort the medical records alphabetically by name. You'll have to create a new list using `zip()` to do this.\n",
    "    - Select the medical records starting at index `3` and ending at index `7` and save it to a variable called `middle_five_records`."
   ]
  },
  {
   "cell_type": "code",
   "execution_count": 203,
   "id": "340b61e3-5f64-47eb-a9c5-43a0ebf0ea97",
   "metadata": {},
   "outputs": [
    {
     "name": "stdout",
     "output_type": "stream",
     "text": [
      "[('Aaron', 7640.0), ('Emily', 6072.0), ('Jide', 5360.0), ('Mohamed', 13262.0), ('Nikita', 2750.0), ('Paul', 5054.0), ('Paul', 12064.0), ('Prisilla', 8320.0), ('Sara', 4816.0), ('Valentina', 14724.0), ('Xia', 6839.0)]\n",
      "[(5360.0, 'Jide'), (6072.0, 'Emily'), (6839.0, 'Xia'), (7640.0, 'Aaron'), (8320.0, 'Prisilla')]\n"
     ]
    }
   ],
   "source": [
    "#Sort the medical records alphabetically by name.\n",
    "new_medical_records=list(zip(names,insurance_costs))\n",
    "new_medical_records.sort()\n",
    "print(new_medical_records)\n",
    "\n",
    "#Select the medical records starting at index `3` and ending at index `7`\n",
    "middle_five_records=medical_records[3:8]\n",
    "print(middle_five_records)"
   ]
  },
  {
   "cell_type": "code",
   "execution_count": null,
   "id": "bc278d52-9b82-4d30-87a9-fb1bec28da8e",
   "metadata": {},
   "outputs": [],
   "source": []
  },
  {
   "cell_type": "code",
   "execution_count": null,
   "id": "9e6a2986-86a2-40a6-9775-41596af1c34a",
   "metadata": {},
   "outputs": [],
   "source": []
  },
  {
   "cell_type": "code",
   "execution_count": null,
   "id": "5d7d411c-9a1f-4300-9c47-41b0e4175c20",
   "metadata": {},
   "outputs": [],
   "source": []
  },
  {
   "cell_type": "markdown",
   "id": "32443ff9-6dbc-4e25-8922-7417a9968fba",
   "metadata": {},
   "source": [
    "## Loops"
   ]
  },
  {
   "cell_type": "markdown",
   "id": "c82d4786-10c9-4ced-b2a8-ccb7590ec3a3",
   "metadata": {},
   "source": [
    "You are interested in analyzing medical insurance cost data efficiently without writing repetitive code.\n",
    "\n",
    "In this , you will use your new knowledge of Python loops to iterate through and analyze medical insurance cost data.\n",
    "\n",
    "Let's get started!"
   ]
  },
  {
   "cell_type": "markdown",
   "id": "7224fd96-c802-41b7-8415-f2c0fe5c3db5",
   "metadata": {},
   "source": [
    "### Creating a For Loop"
   ]
  },
  {
   "cell_type": "markdown",
   "id": "dfb343fb-d90a-4bb4-ba3c-c31ed19364f3",
   "metadata": {},
   "source": [
    "1. First, let's take a look at three lists in the code block below:\n",
    "   - `names` stores the names of seven individuals.\n",
    "   - `estimated_insurance_costs` stores the estimated medical insurance costs for the individuals.\n",
    "   - `actual_insurance_costs` stores the actual insurance costs paid by the individuals.\n",
    "   \n",
    "   We want to calculate the average insurance cost each person paid. We'll start by adding up all of the insurance costs.\n",
    "   \n",
    "   Create a variable `total_cost` and initialize it to `0`."
   ]
  },
  {
   "cell_type": "code",
   "execution_count": 25,
   "id": "362dee44-7498-4e9b-85a5-104bc00be9e9",
   "metadata": {},
   "outputs": [],
   "source": [
    "names = [\"Judith\", \"Abel\", \"Tyson\", \"Martha\", \"Beverley\", \"David\", \"Anabel\"]\n",
    "estimated_insurance_costs = [1000.0, 2000.0, 3000.0, 4000.0, 5000.0, 6000.0, 7000.0]\n",
    "actual_insurance_costs = [1100.0, 2200.0, 3300.0, 4400.0, 5500.0, 6600.0, 7700.0]\n",
    "\n",
    "total_cost=0"
   ]
  },
  {
   "cell_type": "markdown",
   "id": "e64b65c1-fd82-4e37-be33-002bcc8ec70a",
   "metadata": {},
   "source": [
    "2. Use a `for` loop to iterate through `actual_insurance_costs` and add each insurance cost to the variable `total_cost`."
   ]
  },
  {
   "cell_type": "code",
   "execution_count": 28,
   "id": "6c27fcb4-f955-4aa5-88da-6e843e6e4ee3",
   "metadata": {},
   "outputs": [
    {
     "name": "stdout",
     "output_type": "stream",
     "text": [
      "30800.0\n"
     ]
    }
   ],
   "source": [
    "for i in actual_insurance_costs:\n",
    "  total_cost+=i\n",
    "print(total_cost)"
   ]
  },
  {
   "cell_type": "markdown",
   "id": "c43b81e5-719c-4b7b-91dc-95d2b8b394da",
   "metadata": {},
   "source": [
    "3. After the `for` loop, create a variable called `average_cost` that stores the `total_cost` divided by the length of the `actual_insurance_costs` list.\n",
    "4. Print `average_cost` with the following message:\n",
    "\n",
    "   ```\n",
    "   Average Insurance Cost: <average_cost> dollars.\n",
    "   ```"
   ]
  },
  {
   "cell_type": "code",
   "execution_count": 31,
   "id": "d1b71a14-b710-427b-8f51-042f43027dd0",
   "metadata": {},
   "outputs": [
    {
     "name": "stdout",
     "output_type": "stream",
     "text": [
      "Average Insurance Cost: 4400.0 dollars.\n"
     ]
    }
   ],
   "source": [
    "average_cost = total_cost/len(actual_insurance_costs)\n",
    "print(\"Average Insurance Cost: \" +str(average_cost)+\" dollars.\")"
   ]
  },
  {
   "cell_type": "markdown",
   "id": "bd179bae-8fe3-49ff-85bc-c9f4d6a66eb7",
   "metadata": {},
   "source": [
    "### Using Range in Loops"
   ]
  },
  {
   "cell_type": "markdown",
   "id": "a1e264c9-54f1-4df0-8be5-65474dc13c62",
   "metadata": {},
   "source": [
    "5. For each individual in `names`, we want to determine whether their insurance cost is above or below average.\n",
    "\n",
    "   Write a `for` loop with variable `i` that goes from `0` to `len(names)`.\n",
    "   \n",
    "\n",
    "   \n",
    "6. Inside of the `for` loop, do the following:\n",
    "   - Create a variable `name`, which stores `names[i]`.\n",
    "   - Create a variable `insurance_cost`, which stores `actual_insurance_costs[i]`.\n",
    "   - Print out the insurance cost for each individual, with the following message:\n",
    "   ```\n",
    "   The insurance cost for <name> is <insurance_cost> dollars.\n",
    "   ```"
   ]
  },
  {
   "cell_type": "code",
   "execution_count": 35,
   "id": "9b4a2841-4325-4bbf-95f2-8b5aa2a455c8",
   "metadata": {},
   "outputs": [
    {
     "name": "stdout",
     "output_type": "stream",
     "text": [
      "The insurance cost for Judith is 1100.0dollars.\n",
      "The insurance cost for Abel is 2200.0dollars.\n",
      "The insurance cost for Tyson is 3300.0dollars.\n",
      "The insurance cost for Martha is 4400.0dollars.\n",
      "The insurance cost for Beverley is 5500.0dollars.\n",
      "The insurance cost for David is 6600.0dollars.\n",
      "The insurance cost for Anabel is 7700.0dollars.\n"
     ]
    }
   ],
   "source": [
    "for i in range(len(names)):\n",
    "  name=names[i]\n",
    "  insurance_cost=actual_insurance_costs[i]\n",
    "  print(\"The insurance cost for \"+name+ \" is \"+str(insurance_cost)+ \"dollars.\")"
   ]
  },
  {
   "cell_type": "markdown",
   "id": "068d0051-56a8-4305-aa76-b2cb8a58cbe9",
   "metadata": {},
   "source": [
    "7. Observe the result above.\n",
    "\n",
    "   You should see the insurance costs for each of the seven individuals in `names`. The `for` loop iterated through the entire list and printed out the insurance cost for each individual."
   ]
  },
  {
   "cell_type": "markdown",
   "id": "9755bb02-69c9-49b8-942d-5a9a9e7f9d6e",
   "metadata": {},
   "source": [
    "### Conditions inside a Loop"
   ]
  },
  {
   "cell_type": "markdown",
   "id": "188377e7-6570-43be-b05b-3545460dc2de",
   "metadata": {},
   "source": [
    "8. Inside of the `for` loop, use `if`, `elif`, `else` statements after the `print` statement to check whether the insurance cost is above, below, or equal to the average. Print out messages for each case:\n",
    "   - When `insurance_cost` is higher than the average, print out the following:\n",
    "   ```\n",
    "   The insurance cost for <name> is above average.\n",
    "   ```\n",
    "   - When `insurance_cost` is lower than the average, print out the following:\n",
    "   ```\n",
    "   The insurance cost for <name> is below average.\n",
    "   ```\n",
    "   - Otherwise, print out the following:\n",
    "   ```\n",
    "   The insurance cost for <name> is equal to the average.\n",
    "   ```"
   ]
  },
  {
   "cell_type": "code",
   "execution_count": 42,
   "id": "1885e32f-00f6-4a30-bae3-34ccb0073b95",
   "metadata": {},
   "outputs": [
    {
     "name": "stdout",
     "output_type": "stream",
     "text": [
      "The insurance cost for Judith is 1100.0dollars.\n",
      "The insurance cost for Judithis below average\n",
      "The insurance cost for Abel is 2200.0dollars.\n",
      "The insurance cost for Abelis below average\n",
      "The insurance cost for Tyson is 3300.0dollars.\n",
      "The insurance cost for Tysonis below average\n",
      "The insurance cost for Martha is 4400.0dollars.\n",
      "The insurance cost for Marthais equal to the average\n",
      "The insurance cost for Beverley is 5500.0dollars.\n",
      "The insurance cost for Beverleyis above average\n",
      "The insurance cost for David is 6600.0dollars.\n",
      "The insurance cost for Davidis above average\n",
      "The insurance cost for Anabel is 7700.0dollars.\n",
      "The insurance cost for Anabelis above average\n"
     ]
    }
   ],
   "source": [
    "for i in range(len(names)):\n",
    "  name=names[i]\n",
    "  insurance_cost=actual_insurance_costs[i]\n",
    "  print(\"The insurance cost for \"+name+ \" is \"+str(insurance_cost)+ \"dollars.\")\n",
    "  if insurance_cost > average_cost:\n",
    "    print(\"The insurance cost for \"+name+ \"is above average\")\n",
    "  elif insurance_cost < average_cost:\n",
    "    print(\"The insurance cost for \"+name+ \"is below average\")\n",
    "  else:\n",
    "    print(\"The insurance cost for \"+name+ \"is equal to the average\")"
   ]
  },
  {
   "cell_type": "markdown",
   "id": "5050f537-4692-48ca-9e89-b39853ae5e99",
   "metadata": {},
   "source": [
    "9. Observe the output above.\n",
    "\n",
    "   You should see messages indicating the insurance cost for each of the seven individuals and where their insurance cost stands relative to the average."
   ]
  },
  {
   "cell_type": "markdown",
   "id": "855d41e5-99aa-4e9c-a734-0347988ee15d",
   "metadata": {},
   "source": [
    "### Creating a List Comprehension"
   ]
  },
  {
   "cell_type": "markdown",
   "id": "6d379375-3cb1-4ddc-9f81-92d009f445d2",
   "metadata": {},
   "source": [
    "10. If you look closely at `actual_insurance_costs` and `estimated_insurance_costs`, you will notice that each of the actual insurance costs is 10% higher than the estimated insurance costs.\n",
    " \n",
    "    Using a list comprehension, create a new list called `updated_estimated_costs`, which has each element in `estimated_insurance_costs` multiplied by `11/10`.\n",
    "\n",
    "11. Print `updated_estimated_costs`.\n",
    "\n",
    "    You should see that the list now looks the same as `actual_insurance_costs`."
   ]
  },
  {
   "cell_type": "code",
   "execution_count": 48,
   "id": "0c807068-d98e-4ff3-b9eb-4e3c869af330",
   "metadata": {},
   "outputs": [
    {
     "name": "stdout",
     "output_type": "stream",
     "text": [
      "[1100.0, 2200.0, 3300.0, 4400.0, 5500.0, 6600.0, 7700.0]\n"
     ]
    }
   ],
   "source": [
    "updated_estimated_costs=[cost * 11/10 for cost in estimated_insurance_costs]\n",
    "print(updated_estimated_costs)"
   ]
  },
  {
   "cell_type": "markdown",
   "id": "9f298f36-6152-494e-aad8-faa7cff510f1",
   "metadata": {},
   "source": [
    "12. If you'd like extra practice with Python loops:\n",
    "    - Convert the first `for` loop in the code to a `while` loop.\n",
    "    - Modify the second `for` loop so that it also calculates how far above or below the average estimated insurance cost is."
   ]
  },
  {
   "cell_type": "code",
   "execution_count": 51,
   "id": "a4b2785a-f275-45e2-9e60-63e924ca4d2a",
   "metadata": {},
   "outputs": [
    {
     "name": "stdout",
     "output_type": "stream",
     "text": [
      "30800.0\n"
     ]
    }
   ],
   "source": [
    "total_cost=0\n",
    "index=0\n",
    "while index < len(actual_insurance_costs):\n",
    "  total_cost+=actual_insurance_costs[index]\n",
    "  index+=1\n",
    "print(total_cost)"
   ]
  },
  {
   "cell_type": "code",
   "execution_count": 53,
   "id": "7949a944-1df2-4262-9ef1-d1f5ee5d820a",
   "metadata": {},
   "outputs": [
    {
     "name": "stdout",
     "output_type": "stream",
     "text": [
      "The insurance cost for Judith is 1000.0dollars.\n",
      "The insurance cost for Judithis below average\n",
      "The insurance cost for Abel is 2000.0dollars.\n",
      "The insurance cost for Abelis below average\n",
      "The insurance cost for Tyson is 3000.0dollars.\n",
      "The insurance cost for Tysonis below average\n",
      "The insurance cost for Martha is 4000.0dollars.\n",
      "The insurance cost for Marthais below average\n",
      "The insurance cost for Beverley is 5000.0dollars.\n",
      "The insurance cost for Beverleyis above average\n",
      "The insurance cost for David is 6000.0dollars.\n",
      "The insurance cost for Davidis above average\n",
      "The insurance cost for Anabel is 7000.0dollars.\n",
      "The insurance cost for Anabelis above average\n"
     ]
    }
   ],
   "source": [
    "for i in range(len(names)):\n",
    "  name=names[i]\n",
    "  insurance_cost=estimated_insurance_costs[i]\n",
    "  print(\"The insurance cost for \"+name+ \" is \"+str(insurance_cost)+ \"dollars.\")\n",
    "  if insurance_cost > average_cost:\n",
    "    print(\"The insurance cost for \"+name+ \"is above average\")\n",
    "  elif insurance_cost < average_cost:\n",
    "    print(\"The insurance cost for \"+name+ \"is below average\")\n",
    "  else:\n",
    "    print(\"The insurance cost for \"+name+ \"is equal to the average\")"
   ]
  },
  {
   "cell_type": "code",
   "execution_count": null,
   "id": "b4f6cfbb-9c39-4b40-a70a-c7afcc30319b",
   "metadata": {},
   "outputs": [],
   "source": []
  },
  {
   "cell_type": "code",
   "execution_count": null,
   "id": "2a2ad130-9f50-4779-b202-39e881d02295",
   "metadata": {},
   "outputs": [],
   "source": []
  },
  {
   "cell_type": "code",
   "execution_count": null,
   "id": "6328dc18-7890-4188-965d-73067990e941",
   "metadata": {},
   "outputs": [],
   "source": []
  },
  {
   "cell_type": "markdown",
   "id": "5eeb4814-8333-4792-b414-f26705ef0b30",
   "metadata": {},
   "source": [
    "## Strings:"
   ]
  },
  {
   "cell_type": "markdown",
   "id": "f417ad03-b7d1-46e2-a760-bc276193c277",
   "metadata": {},
   "source": [
    "You are a doctor who needs to clean up medical patient records, which are currently stored in one large string.\n",
    "\n",
    "In this project, you will use your new knowledge of Python strings to obtain and clean up medical data so that it is easier to read and analyze.\n",
    "\n",
    "Let's get started!"
   ]
  },
  {
   "cell_type": "markdown",
   "id": "e5ba2851-93ce-470e-b534-4c7abf02bcb9",
   "metadata": {},
   "source": [
    "### Working with Strings"
   ]
  },
  {
   "cell_type": "markdown",
   "id": "b43e2aff-c4fa-46a0-9124-6417da089c78",
   "metadata": {},
   "source": [
    "1. First, take a look at the code in the code block below.\n",
    "\n",
    "   The string `medical_data` stores the medical records for ten individuals. Each record is separated by a `;` and contains the name, age, BMI (body mass index), and insurance cost for an individual, in that order.\n",
    "   \n",
    "   Print `medical_data` to see the output below the code block."
   ]
  },
  {
   "cell_type": "code",
   "execution_count": 64,
   "id": "cd462aa7-ca18-48f0-9fa9-584c8690291c",
   "metadata": {},
   "outputs": [
    {
     "name": "stdout",
     "output_type": "stream",
     "text": [
      "Marina Allison   ,27   ,   31.1 , \n",
      "#7010.0   ;Markus Valdez   ,   30, \n",
      "22.4,   #4050.0 ;Connie Ballard ,43 \n",
      ",   25.3 , #12060.0 ;Darnell Weber   \n",
      ",   35   , 20.6   , #7500.0;\n",
      "Sylvie Charles   ,22, 22.1 \n",
      ",#3022.0   ;   Vinay Padilla,24,   \n",
      "26.9 ,#4620.0 ;Meredith Santiago, 51   , \n",
      "29.3 ,#16330.0;   Andre Mccarty, \n",
      "19,22.7 , #2900.0 ; \n",
      "Lorena Hodson ,65, 33.1 , #19370.0; \n",
      "Isaac Vu ,34, 24.8,   #7045.0\n"
     ]
    }
   ],
   "source": [
    "medical_data = \\\n",
    "\"\"\"Marina Allison   ,27   ,   31.1 , \n",
    "#7010.0   ;Markus Valdez   ,   30, \n",
    "22.4,   #4050.0 ;Connie Ballard ,43 \n",
    ",   25.3 , #12060.0 ;Darnell Weber   \n",
    ",   35   , 20.6   , #7500.0;\n",
    "Sylvie Charles   ,22, 22.1 \n",
    ",#3022.0   ;   Vinay Padilla,24,   \n",
    "26.9 ,#4620.0 ;Meredith Santiago, 51   , \n",
    "29.3 ,#16330.0;   Andre Mccarty, \n",
    "19,22.7 , #2900.0 ; \n",
    "Lorena Hodson ,65, 33.1 , #19370.0; \n",
    "Isaac Vu ,34, 24.8,   #7045.0\"\"\"\n",
    "\n",
    "print(medical_data)"
   ]
  },
  {
   "cell_type": "markdown",
   "id": "d5bac5c6-58a0-44c3-8d63-6559893587a6",
   "metadata": {},
   "source": [
    "2. We want the insurance costs to be represented in US dollars.\n",
    "\n",
    "   Replace all instances of `#` in `medical_data` with `$`. Store the result in a variable called `updated_medical_data`.\n",
    "   \n",
    "   Print `updated_medical_data`."
   ]
  },
  {
   "cell_type": "code",
   "execution_count": 67,
   "id": "22260471-7fb3-477e-b4d4-6eac9386c7a1",
   "metadata": {},
   "outputs": [
    {
     "name": "stdout",
     "output_type": "stream",
     "text": [
      "Marina Allison   ,27   ,   31.1 , \n",
      "$7010.0   ;Markus Valdez   ,   30, \n",
      "22.4,   $4050.0 ;Connie Ballard ,43 \n",
      ",   25.3 , $12060.0 ;Darnell Weber   \n",
      ",   35   , 20.6   , $7500.0;\n",
      "Sylvie Charles   ,22, 22.1 \n",
      ",$3022.0   ;   Vinay Padilla,24,   \n",
      "26.9 ,$4620.0 ;Meredith Santiago, 51   , \n",
      "29.3 ,$16330.0;   Andre Mccarty, \n",
      "19,22.7 , $2900.0 ; \n",
      "Lorena Hodson ,65, 33.1 , $19370.0; \n",
      "Isaac Vu ,34, 24.8,   $7045.0\n"
     ]
    }
   ],
   "source": [
    "updated_medical_data=medical_data.replace('#','$')\n",
    "print(updated_medical_data)"
   ]
  },
  {
   "cell_type": "markdown",
   "id": "7de843bc-220d-4655-838f-0b0e3250543e",
   "metadata": {},
   "source": [
    "3. We want to calculate the number of medical records in our data.\n",
    "\n",
    "   Create a variable called `num_records` and initialize it at 0.\n",
    "\n",
    "4. Next, write a `for` loop to iterate through the `updated_medical_data` string. Inside of the loop, add `1` to `num_records` when the current character is equal to `$`.\n",
    "5. Outside of the loop, print `num_records` with the following message:\n",
    "\n",
    "   ```\n",
    "   There are {num_records} medical records in the data.\n",
    "   ```"
   ]
  },
  {
   "cell_type": "code",
   "execution_count": 71,
   "id": "0c7da95a-fbcc-41f6-9804-1b9a15f076da",
   "metadata": {},
   "outputs": [
    {
     "name": "stdout",
     "output_type": "stream",
     "text": [
      "There are  10 medical records in the data.\n"
     ]
    }
   ],
   "source": [
    "num_records=0\n",
    "for record in updated_medical_data:\n",
    "  if record == \"$\":\n",
    "    num_records += 1\n",
    "print(\"There are  {} medical records in the data.\".format(num_records))"
   ]
  },
  {
   "cell_type": "markdown",
   "id": "efb9a716-8d29-4747-b160-f0e1fb7964c3",
   "metadata": {},
   "source": [
    "### Splitting Strings"
   ]
  },
  {
   "cell_type": "markdown",
   "id": "1997de42-6e20-4b25-a995-b090907b3329",
   "metadata": {},
   "source": [
    "6. The medical data in its current form is difficult to analyze. An essential job for a data scientist is to clean up data so that it's easy to work with.\n",
    "\n",
    "   Let's start off by splitting the `updated_medical_data` string into a list of each record. Remember that each medical record is separated by a `;` in the string.\n",
    "   \n",
    "   Store the result in a variable called `medical_data_split` and print this variable."
   ]
  },
  {
   "cell_type": "code",
   "execution_count": 77,
   "id": "59777cc5-dc57-4888-9f43-e3e7c9a1c506",
   "metadata": {},
   "outputs": [
    {
     "name": "stdout",
     "output_type": "stream",
     "text": [
      "['Marina Allison   ,27   ,   31.1 , \\n$7010.0   ', 'Markus Valdez   ,   30, \\n22.4,   $4050.0 ', 'Connie Ballard ,43 \\n,   25.3 , $12060.0 ', 'Darnell Weber   \\n,   35   , 20.6   , $7500.0', '\\nSylvie Charles   ,22, 22.1 \\n,$3022.0   ', '   Vinay Padilla,24,   \\n26.9 ,$4620.0 ', 'Meredith Santiago, 51   , \\n29.3 ,$16330.0', '   Andre Mccarty, \\n19,22.7 , $2900.0 ', ' \\nLorena Hodson ,65, 33.1 , $19370.0', ' \\nIsaac Vu ,34, 24.8,   $7045.0']\n"
     ]
    }
   ],
   "source": [
    "medical_data_split=updated_medical_data.split(\";\")\n",
    "print(medical_data_split)"
   ]
  },
  {
   "cell_type": "markdown",
   "id": "9b4cc0c1-fe91-4e3e-969e-c35ca0d0cb52",
   "metadata": {},
   "source": [
    "7. Our data is now stored in a list, but it is still hard to read. Let's split each medical record into its own list.\n",
    "\n",
    "   First, define an empty list called `medical_records`.\n",
    "8. Next, iterate through `medical_data_split` and for each record, split the string after each comma (`,`) and append the split string to `medical_records`.\n",
    "\n",
    "   Print `medical_records` after the loop."
   ]
  },
  {
   "cell_type": "code",
   "execution_count": 82,
   "id": "94112261-955c-4b01-b4dd-aa6a39ae084f",
   "metadata": {},
   "outputs": [
    {
     "name": "stdout",
     "output_type": "stream",
     "text": [
      "[['Marina Allison   ', '27   ', '   31.1 ', ' \\n$7010.0   '], ['Markus Valdez   ', '   30', ' \\n22.4', '   $4050.0 '], ['Connie Ballard ', '43 \\n', '   25.3 ', ' $12060.0 '], ['Darnell Weber   \\n', '   35   ', ' 20.6   ', ' $7500.0'], ['\\nSylvie Charles   ', '22', ' 22.1 \\n', '$3022.0   '], ['   Vinay Padilla', '24', '   \\n26.9 ', '$4620.0 '], ['Meredith Santiago', ' 51   ', ' \\n29.3 ', '$16330.0'], ['   Andre Mccarty', ' \\n19', '22.7 ', ' $2900.0 '], [' \\nLorena Hodson ', '65', ' 33.1 ', ' $19370.0'], [' \\nIsaac Vu ', '34', ' 24.8', '   $7045.0']]\n"
     ]
    }
   ],
   "source": [
    "medical_records=[]\n",
    "for record in medical_data_split:\n",
    "  medical_records.append(record.split(\",\"))\n",
    "print(medical_records)"
   ]
  },
  {
   "cell_type": "markdown",
   "id": "6e9e8384-460d-44cd-8097-c53d1dbfd41e",
   "metadata": {},
   "source": [
    "### Cleaning Data"
   ]
  },
  {
   "cell_type": "markdown",
   "id": "61d4a255-2f4e-422f-97e3-7d050493ec3b",
   "metadata": {},
   "source": [
    "9. Our data is now slightly more readable. However, it is not properly formatted - it contains unnecessary whitespace.\n",
    "\n",
    "   To fix this, let's start by creating an empty list called `medical_records_clean`.\n",
    "10. Next, use a `for` loop to iterate through `medical_records`.\n",
    "\n",
    "    Inside of the loop, create an empty list called `record_clean`. We'll use this list to store a formatted version of each medical record.\n",
    "11. After the `record_clean` variable, create a nested `for` loop that goes through each `record`:\n",
    "\n",
    "    ```py\n",
    "    for item in record\n",
    "    ```\n",
    "    \n",
    "    Inside of this loop, append `item.strip()` to `record_clean` to remove any whitespace from the string."
   ]
  },
  {
   "cell_type": "markdown",
   "id": "983054ae-18ef-4a48-88c3-6cc99a85f85c",
   "metadata": {},
   "source": [
    "12. Finally, we need to add each cleaned up record to `medical_records_clean`.\n",
    "\n",
    "    Outside of the nested `for` loop, append `record_clean` to `medical_records_clean`.\n",
    "13. Print `medical_records_clean` outside of the `for` loops to see the output.\n",
    "\n",
    "    You should see output that is formatted and much easier to read."
   ]
  },
  {
   "cell_type": "code",
   "execution_count": 94,
   "id": "bcb08998-7a87-4f9c-9936-8e57324dded4",
   "metadata": {},
   "outputs": [
    {
     "name": "stdout",
     "output_type": "stream",
     "text": [
      "[['Marina Allison', '27', '31.1', '$7010.0'], ['Markus Valdez', '30', '22.4', '$4050.0'], ['Connie Ballard', '43', '25.3', '$12060.0'], ['Darnell Weber', '35', '20.6', '$7500.0'], ['Sylvie Charles', '22', '22.1', '$3022.0'], ['Vinay Padilla', '24', '26.9', '$4620.0'], ['Meredith Santiago', '51', '29.3', '$16330.0'], ['Andre Mccarty', '19', '22.7', '$2900.0'], ['Lorena Hodson', '65', '33.1', '$19370.0'], ['Isaac Vu', '34', '24.8', '$7045.0']]\n"
     ]
    }
   ],
   "source": [
    "medical_records_clean=[]\n",
    "for record in medical_records:\n",
    "  record_clean=[]\n",
    "  for item in record:\n",
    "    record_clean.append(item.strip())\n",
    "  medical_records_clean.append(record_clean)\n",
    "print(medical_records_clean)"
   ]
  },
  {
   "cell_type": "markdown",
   "id": "2c8d8051-8962-434d-941d-9a2f7285ca5d",
   "metadata": {},
   "source": [
    "### Analyzing Data"
   ]
  },
  {
   "cell_type": "markdown",
   "id": "a1513aa2-f5c7-4172-b078-9bb7e5bcf578",
   "metadata": {},
   "source": [
    "14. Our data is now clean and ready for analysis.\n",
    "\n",
    "    For example, to print out the names of each of the ten individuals, we can use the following loop:"
   ]
  },
  {
   "cell_type": "code",
   "execution_count": 101,
   "id": "2d6b49df-2d15-49a2-b311-9f5b608bb7cd",
   "metadata": {},
   "outputs": [
    {
     "name": "stdout",
     "output_type": "stream",
     "text": [
      "MARINA ALLISON\n",
      "MARKUS VALDEZ\n",
      "CONNIE BALLARD\n",
      "DARNELL WEBER\n",
      "SYLVIE CHARLES\n",
      "VINAY PADILLA\n",
      "MEREDITH SANTIAGO\n",
      "ANDRE MCCARTY\n",
      "LORENA HODSON\n",
      "ISAAC VU\n"
     ]
    }
   ],
   "source": [
    "for record in medical_records_clean:\n",
    "  record[0]=record[0].upper()\n",
    "  print(record[0])"
   ]
  },
  {
   "cell_type": "markdown",
   "id": "95b11ba7-f503-428e-89c7-7fbae2a3cd92",
   "metadata": {},
   "source": [
    "15. Let's store each name, age, BMI, and insurance cost in separate lists.\n",
    "\n",
    "    To start, create four empty lists:\n",
    "    - `names`\n",
    "    - `ages`\n",
    "    - `bmis`\n",
    "    - `insurance_costs`"
   ]
  },
  {
   "cell_type": "code",
   "execution_count": 106,
   "id": "4bd86e5e-613d-4b0c-9b14-f7240860dcad",
   "metadata": {},
   "outputs": [],
   "source": [
    "names=[]\n",
    "ages=[]\n",
    "bmis=[]\n",
    "insurance_costs=[]"
   ]
  },
  {
   "cell_type": "markdown",
   "id": "eae4796a-65ef-4507-973a-29759fc33f03",
   "metadata": {},
   "source": [
    "16. Next, iterate through `medical_records_clean` and for each record:\n",
    "    - Append the name to `names`.\n",
    "    - Append the age to `ages`.\n",
    "    - Append the BMI to `bmis`.\n",
    "    - Append the insurance cost to `insurance_costs`.\n",
    "17. Print `names`, `ages`, `bmis`, and `insurance_costs` outside of the loop.\n",
    "\n",
    "    Make sure the output is what you expect."
   ]
  },
  {
   "cell_type": "code",
   "execution_count": 110,
   "id": "c1ae4cb2-923b-470d-87f4-189570328fb9",
   "metadata": {},
   "outputs": [
    {
     "name": "stdout",
     "output_type": "stream",
     "text": [
      "Names:['MARINA ALLISON', 'MARKUS VALDEZ', 'CONNIE BALLARD', 'DARNELL WEBER', 'SYLVIE CHARLES', 'VINAY PADILLA', 'MEREDITH SANTIAGO', 'ANDRE MCCARTY', 'LORENA HODSON', 'ISAAC VU']\n",
      "Ages:['27', '30', '43', '35', '22', '24', '51', '19', '65', '34']\n",
      "Bmis:['31.1', '22.4', '25.3', '20.6', '22.1', '26.9', '29.3', '22.7', '33.1', '24.8']\n",
      "Insurance costs:['$7010.0', '$4050.0', '$12060.0', '$7500.0', '$3022.0', '$4620.0', '$16330.0', '$2900.0', '$19370.0', '$7045.0']\n"
     ]
    }
   ],
   "source": [
    "for record in medical_records_clean:\n",
    "  names.append(record[0])\n",
    "  ages.append(record[1])\n",
    "  bmis.append(record[2])\n",
    "  insurance_costs.append(record[3])\n",
    "print(\"Names:\" +str(names))\n",
    "print(\"Ages:\"+str(ages))\n",
    "print(\"Bmis:\"+str(bmis))\n",
    "print(\"Insurance costs:\"+str(insurance_costs))"
   ]
  },
  {
   "cell_type": "markdown",
   "id": "e77be379-30b6-4eee-a19d-034e635588b7",
   "metadata": {},
   "source": [
    "18. Now that all of our data is in separate lists, we can easily perform analysis on that data. Let's calculate the average BMI in our dataset.\n",
    "\n",
    "    First, create a variable called `total_bmi` and set it equal to 0."
   ]
  },
  {
   "cell_type": "code",
   "execution_count": 113,
   "id": "aa4da93d-cd01-4db0-9c5a-011d0362a5e1",
   "metadata": {},
   "outputs": [],
   "source": [
    "total_bmi=0"
   ]
  },
  {
   "cell_type": "markdown",
   "id": "333a09ff-8669-421c-8212-d331bd271c23",
   "metadata": {},
   "source": [
    "19. Next, use a `for` loop to iterate through `bmis` and add each `bmi` to `total_bmi`.\n",
    "\n",
    "    Remember to convert `bmi` to a float.\n",
    "20. After the for loop, create a variable called `average_bmi` that stores the `total_bmi` divided by the length of the `bmis` list.\n",
    "\n",
    "    Print out `average_bmi` with the following message:\n",
    "    ```\n",
    "    Average BMI: {average_bmi}\n",
    "    ```"
   ]
  },
  {
   "cell_type": "code",
   "execution_count": 116,
   "id": "f9460a6a-3103-45e7-ad20-2b3767047d7d",
   "metadata": {},
   "outputs": [
    {
     "name": "stdout",
     "output_type": "stream",
     "text": [
      "Average BMI:  25.830000000000002\n"
     ]
    }
   ],
   "source": [
    "for bmi in bmis:\n",
    "  total_bmi+=float(bmi)\n",
    "average_bmi=total_bmi/len(bmis)\n",
    "print(\"Average BMI: \" ,str(average_bmi))"
   ]
  },
  {
   "cell_type": "markdown",
   "id": "e1966df9-8299-46c3-9842-3dd298ce1b23",
   "metadata": {},
   "source": [
    "21. Congratulations! In this , you used Python strings to transform and clean up medical data.\n",
    "    - Calculate the average insurance cost in `insurance_costs`. You will have the remove the `$` in order to calculate this.\n",
    "    - Write a for loop that outputs a string for each individual in the following format:\n",
    "    ```\n",
    "    Marina is 27 years old with a BMI of 31.1 and an insurance cost of $7010.0.\n",
    "Markus is 30 years old with a BMI of 22.4 and an insurance cost of $4050.0.\n",
    "    ...\n",
    "    ...\n"
   ]
  },
  {
   "cell_type": "code",
   "execution_count": 119,
   "id": "06483963-c8a8-4c74-9eb2-a8b5d945723c",
   "metadata": {},
   "outputs": [
    {
     "name": "stdout",
     "output_type": "stream",
     "text": [
      "Average insurance cost is:$8390.7\n",
      "MARINA ALLISON is 27 years old with a BMI of 31.1 and an insurance cost of $7010.0\n",
      "MARKUS VALDEZ is 30 years old with a BMI of 22.4 and an insurance cost of $4050.0\n",
      "CONNIE BALLARD is 43 years old with a BMI of 25.3 and an insurance cost of $12060.0\n",
      "DARNELL WEBER is 35 years old with a BMI of 20.6 and an insurance cost of $7500.0\n",
      "SYLVIE CHARLES is 22 years old with a BMI of 22.1 and an insurance cost of $3022.0\n",
      "VINAY PADILLA is 24 years old with a BMI of 26.9 and an insurance cost of $4620.0\n",
      "MEREDITH SANTIAGO is 51 years old with a BMI of 29.3 and an insurance cost of $16330.0\n",
      "ANDRE MCCARTY is 19 years old with a BMI of 22.7 and an insurance cost of $2900.0\n",
      "LORENA HODSON is 65 years old with a BMI of 33.1 and an insurance cost of $19370.0\n",
      "ISAAC VU is 34 years old with a BMI of 24.8 and an insurance cost of $7045.0\n"
     ]
    }
   ],
   "source": [
    "total_insurance_costs=0\n",
    "for cost in insurance_costs:\n",
    "  total_insurance_costs+=float(cost.replace(\"$\",\"\"))\n",
    "average_insurance_cost=total_insurance_costs/len(insurance_costs)\n",
    "print(\"Average insurance cost is:$\"+str(average_insurance_cost))\n",
    "\n",
    "for record in medical_records_clean:\n",
    "  print(\"{} is {} years old with a BMI of {} and an insurance cost of {}\".format(record[0],record[1],record[2],record[3]))"
   ]
  },
  {
   "cell_type": "code",
   "execution_count": null,
   "id": "a0615483-cdaa-4fd1-b11f-ad061ac709b5",
   "metadata": {},
   "outputs": [],
   "source": []
  },
  {
   "cell_type": "code",
   "execution_count": null,
   "id": "ffe234d9-9c42-4d8a-980a-dc9a8ed18cfe",
   "metadata": {},
   "outputs": [],
   "source": []
  },
  {
   "cell_type": "code",
   "execution_count": null,
   "id": "936d3694-2a5f-473a-a0d1-a0332d3b8d01",
   "metadata": {},
   "outputs": [],
   "source": []
  },
  {
   "cell_type": "markdown",
   "id": "4d665527-8d98-4719-ae12-c69a53cb93af",
   "metadata": {},
   "source": [
    "## Dictionaries"
   ]
  },
  {
   "cell_type": "markdown",
   "id": "676a8cbf-1d5c-48ae-8f86-a0eaeac7a1f8",
   "metadata": {},
   "source": [
    "You have been asked to create a program that organizes and updates medical records efficiently.\n",
    "\n",
    "In this project, you will use your new knowledge of Python dictionaries to create a database of medical records for patients.\n",
    "\n",
    "Let's get started!"
   ]
  },
  {
   "cell_type": "markdown",
   "id": "bed92cb9-faa5-44e4-b72e-d3bf906ed85e",
   "metadata": {},
   "source": [
    "### Storing Patient Names and Insurance Costs"
   ]
  },
  {
   "cell_type": "markdown",
   "id": "d0db7281-cb8d-4c17-be30-9d8690b7ae28",
   "metadata": {},
   "source": [
    "1. We would like to keep a record of medical patients and their insurance costs.\n",
    "\n",
    "   First, create an empty dictionary called `medical_costs`."
   ]
  },
  {
   "cell_type": "code",
   "execution_count": 125,
   "id": "d65c2776-bae8-4c66-9ec2-c8326b5c7f1b",
   "metadata": {},
   "outputs": [],
   "source": [
    "medical_costs={}"
   ]
  },
  {
   "cell_type": "markdown",
   "id": "3591f937-ffcc-4831-bf66-625199e6354a",
   "metadata": {},
   "source": [
    "2. Let's populate our `medical_costs` dictionary by adding the following key-value pairs:\n",
    "   - Add `\"Marina\"` to `medical_costs` as a key with a value of `6607.0`.\n",
    "   - Add `\"Vinay\"` to `medical_costs` as a key with a value of `3225.0`.\n",
    "   \n",
    "3. Using one line of code, add the following three patients to the `medical_costs` dictionary:\n",
    "   - `\"Connie\"`, with an insurance cost of `8886.0`.\n",
    "   - `\"Isaac\"`, with an insurance cost of `16444.0`.\n",
    "   - `\"Valentina\"`, with an insurance cost of `6420.0`.\n",
    "4. Print `medical_costs`. Make sure the dictionary is what you expected."
   ]
  },
  {
   "cell_type": "code",
   "execution_count": 131,
   "id": "0163d370-634b-4e22-bd28-04efe4572355",
   "metadata": {},
   "outputs": [
    {
     "name": "stdout",
     "output_type": "stream",
     "text": [
      "{'Marina': 6607.0, 'Vinay': 3225.0, 'Connie': 8886.0, 'Isaac': 16444.0, 'Valentina': 6420.0}\n"
     ]
    }
   ],
   "source": [
    "medical_costs[\"Marina\"]=6607.0\n",
    "medical_costs[\"Vinay\"]=3225.0\n",
    "medical_costs.update({\"Connie\":8886.0,\"Isaac\":16444.0,\"Valentina\":6420.0})\n",
    "print(medical_costs)"
   ]
  },
  {
   "cell_type": "markdown",
   "id": "37aa6f69-8282-4c35-b302-ef9faf940ae5",
   "metadata": {},
   "source": [
    "5. You notice that `Vinay`'s insurance cost was incorrectly inputted. Update the value associated with `Vinay` to `3325.0`.\n",
    "\n",
    "   Print the updated dictionary."
   ]
  },
  {
   "cell_type": "code",
   "execution_count": 134,
   "id": "43818a2c-e9ac-47a9-abc3-cd654bba3be4",
   "metadata": {},
   "outputs": [
    {
     "name": "stdout",
     "output_type": "stream",
     "text": [
      "{'Marina': 6607.0, 'Vinay': 3325.0, 'Connie': 8886.0, 'Isaac': 16444.0, 'Valentina': 6420.0}\n"
     ]
    }
   ],
   "source": [
    "medical_costs[\"Vinay\"]=3325.0\n",
    "print(medical_costs)"
   ]
  },
  {
   "cell_type": "markdown",
   "id": "e032360a-4abb-4f3a-8c55-d49c26005250",
   "metadata": {},
   "source": [
    "6. Let's calculate the average medical cost of each patient. Create a variable called `total_cost` and set it equal to 0.\n",
    "\n",
    "   Next, iterate through the values in `medical_costs` and add each value to the `total_cost` variable.\n",
    "7. After the loop, create a variable called `average_cost` that stores the `total_cost` divided by the length of the `medical_costs` dictionary.\n",
    "\n",
    "   Print `average_cost` with the following message:\n",
    "   \n",
    "   ```\n",
    "   Average Insurance Cost: {average_cost}\n",
    "   ```"
   ]
  },
  {
   "cell_type": "code",
   "execution_count": 137,
   "id": "4201f9b3-267d-499e-980f-613435564755",
   "metadata": {},
   "outputs": [
    {
     "name": "stdout",
     "output_type": "stream",
     "text": [
      "41682.0\n",
      "Average Insurance Cost: 8336.4\n"
     ]
    }
   ],
   "source": [
    "total_cost=0\n",
    "for i in medical_costs.values():\n",
    "  total_cost+=i\n",
    "print(total_cost)\n",
    "average_cost=total_cost/len(medical_costs)\n",
    "print(\"Average Insurance Cost: \"+str(average_cost))"
   ]
  },
  {
   "cell_type": "markdown",
   "id": "ef239f0d-fd3c-4dad-8c2f-7e0f3043903a",
   "metadata": {},
   "source": [
    "### List Comprehension to Dictionary"
   ]
  },
  {
   "cell_type": "markdown",
   "id": "4a222686-1d09-47ba-8e19-2509362fcba0",
   "metadata": {},
   "source": [
    "8. You have been asked to create a second dictionary that maps patient names to their ages.\n",
    "\n",
    "   First, create two lists called `names` and `ages` with the following data:\n",
    "   \n",
    "   names | ages\n",
    "   --- | ---\n",
    "   Marina | 27\n",
    "   Vinay | 24\n",
    "   Connie | 43\n",
    "   Isaac | 35\n",
    "   Valentina | 52"
   ]
  },
  {
   "cell_type": "code",
   "execution_count": 141,
   "id": "122e9db7-8a0c-4c73-a967-d9555e89eb32",
   "metadata": {},
   "outputs": [],
   "source": [
    "names=[\"Marina\",\"Vinay\",\"Connie\",\"Isaac\",\"Valentina\"]\n",
    "ages=[27,24,43,35,52]"
   ]
  },
  {
   "cell_type": "markdown",
   "id": "b20b2888-967f-4456-b286-42c21e72dcdf",
   "metadata": {},
   "source": [
    "9. Next, create a variable called `zipped_ages` that is a zipped list of pairs between the `names` list and the `ages` list.\n",
    "10. Create a dictionary called `names_to_ages` by using a list comprehension that iterates through `zipped_ages` and turns each pair into a key : value item.\n",
    "\n",
    "    Print `names_to_ages` to see the result."
   ]
  },
  {
   "cell_type": "code",
   "execution_count": 144,
   "id": "49ec1453-3b52-406c-9dd8-5428bb39642e",
   "metadata": {},
   "outputs": [
    {
     "name": "stdout",
     "output_type": "stream",
     "text": [
      "{'Marina': 27, 'Vinay': 24, 'Connie': 43, 'Isaac': 35, 'Valentina': 52}\n"
     ]
    }
   ],
   "source": [
    "zipped_ages=zip(names,ages)\n",
    "names_to_ages={key:value for key,value in zipped_ages}\n",
    "print(names_to_ages)"
   ]
  },
  {
   "cell_type": "markdown",
   "id": "368ff065-8fc5-4b30-9081-a00c809f1272",
   "metadata": {},
   "source": [
    "11. Use `.get()` to get the value of Marina's age and store it in a variable called `marina_age`. Use `None` as a default value if the key doesn't exist.\n",
    "\n",
    "    Print `marina_age` with the following message:\n",
    "    \n",
    "    ```\n",
    "    Marina's age is {marina_age}\n",
    "    ```"
   ]
  },
  {
   "cell_type": "code",
   "execution_count": 149,
   "id": "896826d9-389a-4e0b-bcb7-6b922684ac8c",
   "metadata": {},
   "outputs": [
    {
     "name": "stdout",
     "output_type": "stream",
     "text": [
      "Marina's age is 27\n"
     ]
    }
   ],
   "source": [
    "marina_age=names_to_ages.get(\"Marina\",None)\n",
    "print(\"Marina's age is \" + str(marina_age))"
   ]
  },
  {
   "cell_type": "markdown",
   "id": "5893dfe0-c4eb-495b-acc2-a5a89071d021",
   "metadata": {},
   "source": [
    "### Using a Dictionary to Create a Medical Database"
   ]
  },
  {
   "cell_type": "markdown",
   "id": "d44074ff-1115-4954-be4b-91670e2707c9",
   "metadata": {},
   "source": [
    "12. Let's create a third dictionary to represent a database of medical records that contains information such as a patient's name, age, sex, gender, BMI, number of children, smoker status, and insurance cost.\n",
    "\n",
    "    First, create an empty dictionary called `medical_records`."
   ]
  },
  {
   "cell_type": "code",
   "execution_count": 153,
   "id": "64308dd7-1d6a-4c8c-a336-1b0ffd20b5d9",
   "metadata": {},
   "outputs": [],
   "source": [
    "medical_records={}"
   ]
  },
  {
   "cell_type": "markdown",
   "id": "46c6a590-70b3-4bdd-88fb-1f48a46e176a",
   "metadata": {},
   "source": [
    "13. Next, add `\"Marina\"` to `medical_records` as a key with the value being a dictionary of medical data:\n",
    "\n",
    "    ```py\n",
    "    {\"Age\": 27, \"Sex\": \"Female\", \"BMI\": 31.1, \"Children\": 2, \"Smoker\": \"Non-smoker\", \"Insurance_cost\": 6607.0}\n",
    "    ```"
   ]
  },
  {
   "cell_type": "code",
   "execution_count": 156,
   "id": "69d2509f-01d6-46d8-9c94-21a80bdf5acf",
   "metadata": {},
   "outputs": [],
   "source": [
    "medical_records[\"Marina\"]={\"Age\": 27, \"Sex\": \"Female\", \"BMI\": 31.1, \"Children\": 2, \"Smoker\": \"Non-smoker\", \"Insurance_cost\": 6607.0}"
   ]
  },
  {
   "cell_type": "markdown",
   "id": "4e9a3133-939e-4b74-9380-1687577b67a5",
   "metadata": {},
   "source": [
    "14. Do the same for the following individuals:\n",
    "    \n",
    "    Name | Age | Sex | BMI | Children | Smoker | Insurance Cost\n",
    "    --- | --- | --- | --- | --- | --- | ---\n",
    "    Vinay | 24 | Male | 26.9 | 0 | Non-smoker | 3225.0\n",
    "    Connie | 43 | Female | 25.3 | 3 | Non-smoker | 8886.0\n",
    "    Isaac | 35 | Male | 20.6 | 4 | Smoker | 16444.0\n",
    "    Valentina | 52 | Female | 18.7 | 1 | Non-smoker | 6420.0"
   ]
  },
  {
   "cell_type": "code",
   "execution_count": 159,
   "id": "a650fc19-4193-4f4d-9ed7-5976f77e23fd",
   "metadata": {},
   "outputs": [],
   "source": [
    "medical_records[\"Vinay\"]={\"Age\": 24, \"Sex\": \"Male\", \"BMI\": 26.9, \"Children\": 0, \"Smoker\": \"Non-smoker\", \"Insurance_cost\": 3225.0}\n",
    "medical_records[\"Connie\"]={\"Age\": 43, \"Sex\": \"Female\", \"BMI\": 25.3, \"Children\": 3, \"Smoker\": \"Non-smoker\", \"Insurance_cost\": 8886.0}\n",
    "medical_records[\"Isaac\"]={\"Age\": 35, \"Sex\": \"Male\", \"BMI\": 20.6, \"Children\": 4, \"Smoker\": \"Smoker\", \"Insurance_cost\": 16444.0}\n",
    "medical_records[\"Valentina\"]={\"Age\": 52, \"Sex\": \"Female\", \"BMI\": 18.7, \"Children\": 1, \"Smoker\": \"Non-smoker\", \"Insurance_cost\": 6420.0}"
   ]
  },
  {
   "cell_type": "markdown",
   "id": "5787d6c7-1f5d-4321-bc9c-a13dcf0e3fc2",
   "metadata": {},
   "source": [
    "15. Print `medical_records` to see the result."
   ]
  },
  {
   "cell_type": "code",
   "execution_count": 164,
   "id": "f213777a-6ebc-4d1f-abdd-2ff94ed90c86",
   "metadata": {},
   "outputs": [
    {
     "name": "stdout",
     "output_type": "stream",
     "text": [
      "{'Marina': {'Age': 27, 'Sex': 'Female', 'BMI': 31.1, 'Children': 2, 'Smoker': 'Non-smoker', 'Insurance_cost': 6607.0}, 'Vinay': {'Age': 24, 'Sex': 'Male', 'BMI': 26.9, 'Children': 0, 'Smoker': 'Non-smoker', 'Insurance_cost': 3225.0}, 'Connie': {'Age': 43, 'Sex': 'Female', 'BMI': 25.3, 'Children': 3, 'Smoker': 'Non-smoker', 'Insurance_cost': 8886.0}, 'Isaac': {'Age': 35, 'Sex': 'Male', 'BMI': 20.6, 'Children': 4, 'Smoker': 'Smoker', 'Insurance_cost': 16444.0}, 'Valentina': {'Age': 52, 'Sex': 'Female', 'BMI': 18.7, 'Children': 1, 'Smoker': 'Non-smoker', 'Insurance_cost': 6420.0}}\n"
     ]
    }
   ],
   "source": [
    "print(medical_records)"
   ]
  },
  {
   "cell_type": "markdown",
   "id": "e8e8a914-4c8c-4c92-9a50-588fcf10500a",
   "metadata": {},
   "source": [
    "16. The `medical_records` dictionary acts like a database of medical records. Let's access a specific piece of data in `medical_records`.\n",
    "\n",
    "    Print out `Connie`'s insurance cost with the following message:\n",
    "    \n",
    "    ```\n",
    "    Connie's insurance cost is X dollars.\n",
    "    ```"
   ]
  },
  {
   "cell_type": "code",
   "execution_count": 167,
   "id": "61c37718-97e7-45c7-85ed-df981be3bff0",
   "metadata": {},
   "outputs": [
    {
     "name": "stdout",
     "output_type": "stream",
     "text": [
      "Connie's insurance cost is 8886.0 dollars.\n"
     ]
    }
   ],
   "source": [
    "print(\"Connie's insurance cost is {} dollars.\".format(medical_records['Connie']['Insurance_cost']))"
   ]
  },
  {
   "cell_type": "markdown",
   "id": "3214ce3a-cc4b-4d3f-b6d7-6deab20b0478",
   "metadata": {},
   "source": [
    "17. `Vinay` has moved to a new country, and we no longer want to include him in our medical records.\n",
    "\n",
    "    Remove `Vinay` from `medical_records`."
   ]
  },
  {
   "cell_type": "code",
   "execution_count": 170,
   "id": "c6335d38-cb87-4c90-bfd4-7f13e101d30f",
   "metadata": {},
   "outputs": [
    {
     "data": {
      "text/plain": [
       "{'Age': 24,\n",
       " 'Sex': 'Male',\n",
       " 'BMI': 26.9,\n",
       " 'Children': 0,\n",
       " 'Smoker': 'Non-smoker',\n",
       " 'Insurance_cost': 3225.0}"
      ]
     },
     "execution_count": 170,
     "metadata": {},
     "output_type": "execute_result"
    }
   ],
   "source": [
    "medical_records.pop(\"Vinay\")"
   ]
  },
  {
   "cell_type": "markdown",
   "id": "922ac222-9aab-4ade-b08e-187a94ff70e2",
   "metadata": {},
   "source": [
    "18. Let's take a closer look at each patient's medical record.\n",
    "\n",
    "    Use a `for` loop to iterate through the items of `medical_records`. For each key-value pair, print out a string that looks like the following:\n",
    "    \n",
    "    ```\n",
    "    {Name} is a {Age} year old {Sex} {Smoker} with a BMI of {BMI} and insurance cost of {Insurance_cost}\n",
    "    ```"
   ]
  },
  {
   "cell_type": "code",
   "execution_count": 175,
   "id": "10ad7713-c363-45f2-a492-4f75a94d8fbc",
   "metadata": {},
   "outputs": [
    {
     "name": "stdout",
     "output_type": "stream",
     "text": [
      "Marina is a 27 year old Female Non-smoker with a BMI of 31.1 and insurance cost of 6607.0 \n",
      "Connie is a 43 year old Female Non-smoker with a BMI of 25.3 and insurance cost of 8886.0 \n",
      "Isaac is a 35 year old Male Smoker with a BMI of 20.6 and insurance cost of 16444.0 \n",
      "Valentina is a 52 year old Female Non-smoker with a BMI of 18.7 and insurance cost of 6420.0 \n"
     ]
    }
   ],
   "source": [
    "for key,value in medical_records.items():\n",
    "  print(\"{} is a {} year old {} {} with a BMI of {} and insurance cost of {} \".format(key,value[\"Age\"],value[\"Sex\"],value[\"Smoker\"],value[\"BMI\"],value[\"Insurance_cost\"]))"
   ]
  },
  {
   "cell_type": "code",
   "execution_count": null,
   "id": "8cc2c013-1de1-4a55-9f81-34aa78059215",
   "metadata": {},
   "outputs": [],
   "source": []
  }
 ],
 "metadata": {
  "kernelspec": {
   "display_name": "Python 3 (ipykernel)",
   "language": "python",
   "name": "python3"
  },
  "language_info": {
   "codemirror_mode": {
    "name": "ipython",
    "version": 3
   },
   "file_extension": ".py",
   "mimetype": "text/x-python",
   "name": "python",
   "nbconvert_exporter": "python",
   "pygments_lexer": "ipython3",
   "version": "3.12.4"
  }
 },
 "nbformat": 4,
 "nbformat_minor": 5
}
